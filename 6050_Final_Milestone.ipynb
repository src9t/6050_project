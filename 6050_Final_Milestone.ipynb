{
  "cells": [
    {
      "cell_type": "markdown",
      "metadata": {
        "id": "vODz6WUIe0jG"
      },
      "source": [
        "# 6050 Project \n",
        "\n"
      ]
    },
    {
      "cell_type": "markdown",
      "metadata": {
        "id": "t1qNfG0B5Oil"
      },
      "source": [
        "Link to access GloVe files can be found here:  http://nlp.stanford.edu/data/glove.6B.zip"
      ]
    },
    {
      "cell_type": "code",
      "execution_count": null,
      "metadata": {
        "id": "LGdcGgiZe7c-"
      },
      "outputs": [],
      "source": [
        "# import stuff\n",
        "# Python ≥3.5 is required\n",
        "import sys\n",
        "assert sys.version_info >= (3, 5)\n",
        "\n",
        "# Scikit-Learn ≥0.20 is required\n",
        "import sklearn\n",
        "assert sklearn.__version__ >= \"0.20\"\n",
        "\n",
        "# TensorFlow ≥2.0-preview is required\n",
        "import tensorflow as tf\n",
        "#from tensorflow import keras\n",
        "assert tf.__version__ >= \"2.0\"\n",
        "\n",
        "# Common imports\n",
        "import numpy as np\n",
        "import pandas as pd\n",
        "import os\n",
        "\n",
        "# to make this notebook's output stable across runs\n",
        "np.random.seed(42)\n",
        "tf.random.set_seed(42)\n",
        "\n",
        "# To plot pretty figures\n",
        "%matplotlib inline\n",
        "import matplotlib as mpl\n",
        "import matplotlib.pyplot as plt"
      ]
    },
    {
      "cell_type": "code",
      "execution_count": null,
      "metadata": {
        "id": "9uAf5kewfLsU"
      },
      "outputs": [],
      "source": [
        "import keras\n",
        "import pickle\n",
        "import random"
      ]
    },
    {
      "cell_type": "code",
      "execution_count": null,
      "metadata": {
        "id": "dxCCzxoyqON6",
        "colab": {
          "base_uri": "https://localhost:8080/"
        },
        "outputId": "832e8966-f18c-45c7-8c65-a65e535d3bbe"
      },
      "outputs": [
        {
          "output_type": "stream",
          "name": "stdout",
          "text": [
            "Drive already mounted at /content/drive; to attempt to forcibly remount, call drive.mount(\"/content/drive\", force_remount=True).\n"
          ]
        }
      ],
      "source": [
        "# Mount Google Drive\n",
        "from google.colab import drive\n",
        "drive.mount('/content/drive')"
      ]
    },
    {
      "cell_type": "code",
      "execution_count": null,
      "metadata": {
        "id": "VyXjnjTRRagR"
      },
      "outputs": [],
      "source": [
        "#Train Data\n",
        "path = 'drive/MyDrive/DS_6050_Project/train.csv'\n",
        "df = pd.read_csv(path)"
      ]
    },
    {
      "cell_type": "code",
      "source": [
        "#TestData\n",
        "path2 = 'drive/MyDrive/DS_6050_Project/test_with_labels.xlsx'\n",
        "df2 = pd.read_excel(path2)"
      ],
      "metadata": {
        "id": "ds0wybVq4Xz0"
      },
      "execution_count": null,
      "outputs": []
    },
    {
      "cell_type": "code",
      "source": [
        "df3 = pd.concat([df, df2])"
      ],
      "metadata": {
        "id": "u3fhJVwII8v_"
      },
      "execution_count": null,
      "outputs": []
    },
    {
      "cell_type": "code",
      "execution_count": null,
      "metadata": {
        "colab": {
          "base_uri": "https://localhost:8080/"
        },
        "id": "zrBQfAIJiSBG",
        "outputId": "cd36a084-b3d7-43ca-ee49-6a40105744c1"
      },
      "outputs": [
        {
          "output_type": "execute_result",
          "data": {
            "text/plain": [
              "39"
            ]
          },
          "metadata": {},
          "execution_count": 26
        }
      ],
      "source": [
        "#Number of Null Values that need to be deleted\n",
        "len(df[df['text'].isnull()])"
      ]
    },
    {
      "cell_type": "markdown",
      "metadata": {
        "id": "fcw2oogijRs3"
      },
      "source": [
        "All of the values above were classified as fake news so want to make sure deleting these won't cause a problem."
      ]
    },
    {
      "cell_type": "code",
      "execution_count": null,
      "metadata": {
        "colab": {
          "base_uri": "https://localhost:8080/"
        },
        "id": "g3zdoQnLijBQ",
        "outputId": "29647fb9-8140-4b8c-ccf2-b7c3a0da6f46"
      },
      "outputs": [
        {
          "output_type": "stream",
          "name": "stdout",
          "text": [
            "10413\n",
            "10387\n"
          ]
        }
      ],
      "source": [
        "#Looking at the distribution of data\n",
        "print(len(df[df['label']==1]))\n",
        "print(len(df[df['label']==0]))"
      ]
    },
    {
      "cell_type": "markdown",
      "metadata": {
        "id": "zM_SB_NMioBs"
      },
      "source": [
        "I don't think losing these 39 rows will be a problem so I am going to drop them."
      ]
    },
    {
      "cell_type": "code",
      "execution_count": null,
      "metadata": {
        "id": "JIHz3itUivHf"
      },
      "outputs": [],
      "source": [
        "# #Removing the null values for train\n",
        "# df = df[df['text'].notnull()]"
      ]
    },
    {
      "cell_type": "code",
      "source": [
        "# #Removing the null values for test\n",
        "# df2 = df2[df2['text'].notnull()]"
      ],
      "metadata": {
        "id": "CuDuFWzM4kPz"
      },
      "execution_count": null,
      "outputs": []
    },
    {
      "cell_type": "code",
      "source": [
        "# #Removing the null values for test\n",
        "df3 = df3[df3['text'].notnull()]"
      ],
      "metadata": {
        "id": "p7wz5hwpJg7I"
      },
      "execution_count": null,
      "outputs": []
    },
    {
      "cell_type": "code",
      "execution_count": null,
      "metadata": {
        "id": "7htWZYWHi9u2"
      },
      "outputs": [],
      "source": [
        "# pull out the text and label, shuffles it and puts it in a list\n",
        "def load_kagglefakenews(df):\n",
        "    #load training data and put into arrays\n",
        "    train_data = df['text'].values.tolist() #'text' column contains articles\n",
        "    train_labels = df['label'].values.tolist() #'label' column contains labels\n",
        "\n",
        "    #Randomly shuffle data and labels together\n",
        "    combo = list(zip(train_data, train_labels))\n",
        "    random.shuffle(combo)\n",
        "    train_data, train_labels = zip(*combo)\n",
        "    del df #clear up memory\n",
        "\n",
        "    return np.asarray(train_data).tolist(), np.asarray(train_labels).tolist()"
      ]
    },
    {
      "cell_type": "code",
      "execution_count": null,
      "metadata": {
        "id": "PW2f418pjgXE"
      },
      "outputs": [],
      "source": [
        "# train_data, train_labels = load_kagglefakenews(df)"
      ]
    },
    {
      "cell_type": "code",
      "source": [
        "# test_data, test_labels = load_kagglefakenews(df2)"
      ],
      "metadata": {
        "id": "BzHIwaN44Qlz"
      },
      "execution_count": null,
      "outputs": []
    },
    {
      "cell_type": "code",
      "source": [
        "train_data, train_labels = load_kagglefakenews(df3)"
      ],
      "metadata": {
        "id": "OPlrAGq4JpMw"
      },
      "execution_count": null,
      "outputs": []
    },
    {
      "cell_type": "code",
      "execution_count": null,
      "metadata": {
        "id": "Ht7Q_egSqhSQ",
        "colab": {
          "base_uri": "https://localhost:8080/"
        },
        "outputId": "21c29fdc-bf2e-4a2a-e29e-bf803765d8ad"
      },
      "outputs": [
        {
          "output_type": "stream",
          "name": "stdout",
          "text": [
            "Found 283796 unique tokens.\n"
          ]
        }
      ],
      "source": [
        "MAX_NB_WORDS=50000 #dictionary size\n",
        "MAX_SEQUENCE_LENGTH=1500 #max word length of each individual article\n",
        "EMBEDDING_DIM=300 #dimensionality of the embedding vector (50, 100, 200, 300)\n",
        "tokenizer = tf.keras.preprocessing.text.Tokenizer(num_words=MAX_NB_WORDS, filters='!\"#$%&()*+,-./:;<=>?@[\\]^_`{|}~')\n",
        "\n",
        "def tokenize_trainingdata(texts, labels):\n",
        "    tokenizer.fit_on_texts(texts)\n",
        "    pickle.dump(tokenizer, open('tokenizer.p', 'wb'))\n",
        "\n",
        "    sequences = tokenizer.texts_to_sequences(texts)\n",
        "\n",
        "    word_index = tokenizer.word_index\n",
        "    print('Found %s unique tokens.' % len(word_index))\n",
        "\n",
        "    data = tf.keras.utils.pad_sequences(sequences, maxlen=MAX_SEQUENCE_LENGTH)\n",
        "\n",
        "    labels = tf.keras.utils.to_categorical(labels, num_classes=len(set(labels)))\n",
        "\n",
        "    return data, labels, word_index\n",
        "\n",
        "#and run it\n",
        "X, Y, word_index = tokenize_trainingdata(train_data, train_labels)\n",
        "#A, B, word_index2 = tokenize_trainingdata(test_data, test_labels)"
      ]
    },
    {
      "cell_type": "code",
      "source": [
        "# #Use all of the train data\n",
        "# train_data = X\n",
        "# train_labels = Y"
      ],
      "metadata": {
        "id": "85_kBSyX14BC"
      },
      "execution_count": null,
      "outputs": []
    },
    {
      "cell_type": "code",
      "source": [
        "#Use all of the test data\n",
        "# test_data = A\n",
        "# test_labels = B"
      ],
      "metadata": {
        "id": "TSqVyYl859uC"
      },
      "execution_count": null,
      "outputs": []
    },
    {
      "cell_type": "code",
      "source": [
        "train_data = X[:int(len(X)*0.70)]\n",
        "train_labels = Y[:int(len(X)*0.70)]\n",
        "test_data = X[int(len(X)*0.7):int(len(X)*0.90)]\n",
        "test_labels = Y[int(len(X)*0.7):int(len(X)*0.90)]\n",
        "valid_data = X[int(len(X)*0.90):]\n",
        "valid_labels = Y[int(len(X)*0.90):]"
      ],
      "metadata": {
        "id": "Xf220J7OJ5sz"
      },
      "execution_count": null,
      "outputs": []
    },
    {
      "cell_type": "code",
      "execution_count": null,
      "metadata": {
        "id": "FEMKkrdU_SJY"
      },
      "outputs": [],
      "source": [
        "# train_data = X[:int(len(X)*0.90)]\n",
        "# train_labels = Y[:int(len(X)*0.90)]\n",
        "# # test_data = X[int(len(X)*0.9):int(len(X)*0.95)]\n",
        "# # test_labels = Y[int(len(X)*0.9):int(len(X)*0.95)]\n",
        "# valid_data = X[int(len(X)*0.90):]\n",
        "# valid_labels = Y[int(len(X)*0.90):]"
      ]
    },
    {
      "cell_type": "code",
      "execution_count": null,
      "metadata": {
        "colab": {
          "base_uri": "https://localhost:8080/"
        },
        "id": "zGX4et_w_Xib",
        "outputId": "b18971ee-3e37-4b99-bc26-f4b0814261b9"
      },
      "outputs": [
        {
          "output_type": "stream",
          "name": "stdout",
          "text": [
            "Found 400000 word vectors.\n"
          ]
        }
      ],
      "source": [
        "def load_embeddings(word_index, embeddingsfile='drive/MyDrive/DS_6050_Project/glove.6B.%id.txt' %EMBEDDING_DIM):\n",
        "    embeddings_index = {}\n",
        "    f = open(embeddingsfile, 'r', encoding='utf8')\n",
        "    for line in f:\n",
        "        #here we parse the data from the file\n",
        "        values = line.split(' ') #split the line by spaces\n",
        "        word = values[0] #each line starts with the word\n",
        "        coefs = np.asarray(values[1:], dtype='float32') #the rest of the line is the vector\n",
        "        embeddings_index[word] = coefs #put into embedding dictionary\n",
        "    f.close()\n",
        "\n",
        "    print('Found %s word vectors.' % len(embeddings_index))\n",
        "\n",
        "    embedding_matrix = np.zeros((len(word_index) + 1, EMBEDDING_DIM))\n",
        "    for word, i in word_index.items():\n",
        "        embedding_vector = embeddings_index.get(word)\n",
        "        if embedding_vector is not None:\n",
        "            # words not found in embedding index will be all-zeros.\n",
        "            embedding_matrix[i] = embedding_vector\n",
        "    \n",
        "    return embedding_matrix\n",
        "    \n",
        "#and build the embedding matrix\n",
        "embedding_matrix = load_embeddings(word_index)"
      ]
    },
    {
      "cell_type": "code",
      "execution_count": null,
      "metadata": {
        "colab": {
          "base_uri": "https://localhost:8080/"
        },
        "id": "U16-9RgNhkkg",
        "outputId": "a9cfdc70-aa55-4c07-9a9f-846178709ede"
      },
      "outputs": [
        {
          "output_type": "execute_result",
          "data": {
            "text/plain": [
              "(250671, 300)"
            ]
          },
          "metadata": {},
          "execution_count": 92
        }
      ],
      "source": [
        "embedding_matrix.shape"
      ]
    },
    {
      "cell_type": "code",
      "execution_count": null,
      "metadata": {
        "id": "1rjI_7lniAHM"
      },
      "outputs": [],
      "source": [
        "model = keras.Sequential([\n",
        "\n",
        "     keras.layers.Embedding(len(word_index) + 1, EMBEDDING_DIM, weights=[embedding_matrix], input_length = MAX_SEQUENCE_LENGTH, trainable=False),\n",
        "     keras.layers.Conv1D(64, 5, activation='relu'),\n",
        "     keras.layers.MaxPool1D(5),\n",
        "     keras.layers.Conv1D(128, 3, activation='relu'), \n",
        "     keras.layers.MaxPool1D(5),\n",
        "     keras.layers.Conv1D(256, 2, activation='relu'),\n",
        "     keras.layers.GlobalAveragePooling1D(),\n",
        "     keras.layers.Dense(2048, activation='relu'),\n",
        "     keras.layers.Dropout(0.5),\n",
        "     keras.layers.Dense(512, activation='relu'),\n",
        "     keras.layers.Dropout(0.5),\n",
        "     keras.layers.Dense(2, activation='softmax')\n",
        "    #  keras.layers.Dense(1, activation='sigmoid')\n",
        "     ])\n"
      ]
    },
    {
      "cell_type": "code",
      "source": [
        "model.build(input_shape = embedding_matrix.shape[1])"
      ],
      "metadata": {
        "id": "GNFA9ipcOnhj"
      },
      "execution_count": null,
      "outputs": []
    },
    {
      "cell_type": "code",
      "source": [
        "# values = []\n",
        "# for v in test_labels:\n",
        "#   values.append(v[1])\n"
      ],
      "metadata": {
        "id": "XhzA8aZz7GpK"
      },
      "execution_count": null,
      "outputs": []
    },
    {
      "cell_type": "code",
      "source": [
        "# print(values)"
      ],
      "metadata": {
        "id": "wjCWf9Um7xEU"
      },
      "execution_count": null,
      "outputs": []
    },
    {
      "cell_type": "code",
      "source": [
        "model.summary()"
      ],
      "metadata": {
        "colab": {
          "base_uri": "https://localhost:8080/"
        },
        "id": "Ua-baF-SgQeJ",
        "outputId": "3b1cf0d6-fda6-4ab6-b431-3515cf4c2cca"
      },
      "execution_count": null,
      "outputs": [
        {
          "output_type": "stream",
          "name": "stdout",
          "text": [
            "Model: \"sequential_4\"\n",
            "_________________________________________________________________\n",
            " Layer (type)                Output Shape              Param #   \n",
            "=================================================================\n",
            " embedding_4 (Embedding)     (None, 1500, 300)         85139100  \n",
            "                                                                 \n",
            " conv1d_12 (Conv1D)          (None, 1496, 64)          96064     \n",
            "                                                                 \n",
            " max_pooling1d_8 (MaxPooling  (None, 299, 64)          0         \n",
            " 1D)                                                             \n",
            "                                                                 \n",
            " conv1d_13 (Conv1D)          (None, 297, 128)          24704     \n",
            "                                                                 \n",
            " max_pooling1d_9 (MaxPooling  (None, 59, 128)          0         \n",
            " 1D)                                                             \n",
            "                                                                 \n",
            " conv1d_14 (Conv1D)          (None, 58, 256)           65792     \n",
            "                                                                 \n",
            " global_average_pooling1d_4   (None, 256)              0         \n",
            " (GlobalAveragePooling1D)                                        \n",
            "                                                                 \n",
            " dense_12 (Dense)            (None, 2048)              526336    \n",
            "                                                                 \n",
            " dropout_8 (Dropout)         (None, 2048)              0         \n",
            "                                                                 \n",
            " dense_13 (Dense)            (None, 512)               1049088   \n",
            "                                                                 \n",
            " dropout_9 (Dropout)         (None, 512)               0         \n",
            "                                                                 \n",
            " dense_14 (Dense)            (None, 2)                 1026      \n",
            "                                                                 \n",
            "=================================================================\n",
            "Total params: 86,902,110\n",
            "Trainable params: 1,763,010\n",
            "Non-trainable params: 85,139,100\n",
            "_________________________________________________________________\n"
          ]
        }
      ]
    },
    {
      "cell_type": "code",
      "source": [
        "model.compile(loss='binary_crossentropy', optimizer='adam', metrics='accuracy')"
      ],
      "metadata": {
        "id": "5IucWlH5W2bC"
      },
      "execution_count": null,
      "outputs": []
    },
    {
      "cell_type": "code",
      "source": [
        "model.fit(train_data, train_labels,\n",
        "          validation_data=(valid_data, valid_labels),\n",
        "          epochs=25, batch_size=64)"
      ],
      "metadata": {
        "colab": {
          "base_uri": "https://localhost:8080/"
        },
        "id": "IAR4Ip77W44V",
        "outputId": "e4c150b3-4f66-46ae-bebb-ed01e846aa4f"
      },
      "execution_count": null,
      "outputs": [
        {
          "output_type": "stream",
          "name": "stdout",
          "text": [
            "Epoch 1/25\n",
            "284/284 [==============================] - 7s 21ms/step - loss: 0.3803 - accuracy: 0.8264 - val_loss: 0.2919 - val_accuracy: 0.8852\n",
            "Epoch 2/25\n",
            "284/284 [==============================] - 5s 19ms/step - loss: 0.2606 - accuracy: 0.8998 - val_loss: 0.2547 - val_accuracy: 0.9049\n",
            "Epoch 3/25\n",
            "284/284 [==============================] - 6s 19ms/step - loss: 0.2308 - accuracy: 0.9143 - val_loss: 0.2616 - val_accuracy: 0.9010\n",
            "Epoch 4/25\n",
            "284/284 [==============================] - 6s 19ms/step - loss: 0.2009 - accuracy: 0.9278 - val_loss: 0.3232 - val_accuracy: 0.8817\n",
            "Epoch 5/25\n",
            "284/284 [==============================] - 5s 19ms/step - loss: 0.1781 - accuracy: 0.9359 - val_loss: 0.2985 - val_accuracy: 0.8948\n",
            "Epoch 6/25\n",
            "284/284 [==============================] - 5s 19ms/step - loss: 0.1490 - accuracy: 0.9452 - val_loss: 0.3400 - val_accuracy: 0.8841\n",
            "Epoch 7/25\n",
            "284/284 [==============================] - 5s 19ms/step - loss: 0.1269 - accuracy: 0.9534 - val_loss: 0.3685 - val_accuracy: 0.8760\n",
            "Epoch 8/25\n",
            "284/284 [==============================] - 6s 20ms/step - loss: 0.1007 - accuracy: 0.9625 - val_loss: 0.4170 - val_accuracy: 0.8806\n",
            "Epoch 9/25\n",
            "284/284 [==============================] - 5s 19ms/step - loss: 0.0850 - accuracy: 0.9682 - val_loss: 0.4327 - val_accuracy: 0.8729\n",
            "Epoch 10/25\n",
            "284/284 [==============================] - 5s 19ms/step - loss: 0.0684 - accuracy: 0.9743 - val_loss: 0.6092 - val_accuracy: 0.8663\n",
            "Epoch 11/25\n",
            "284/284 [==============================] - 5s 19ms/step - loss: 0.0560 - accuracy: 0.9779 - val_loss: 0.6821 - val_accuracy: 0.8640\n",
            "Epoch 12/25\n",
            "284/284 [==============================] - 5s 19ms/step - loss: 0.0421 - accuracy: 0.9854 - val_loss: 0.6258 - val_accuracy: 0.8667\n",
            "Epoch 13/25\n",
            "284/284 [==============================] - 5s 19ms/step - loss: 0.0333 - accuracy: 0.9885 - val_loss: 0.7190 - val_accuracy: 0.8713\n",
            "Epoch 14/25\n",
            "284/284 [==============================] - 5s 19ms/step - loss: 0.0302 - accuracy: 0.9900 - val_loss: 0.8973 - val_accuracy: 0.8490\n",
            "Epoch 15/25\n",
            "284/284 [==============================] - 5s 19ms/step - loss: 0.0265 - accuracy: 0.9910 - val_loss: 0.8266 - val_accuracy: 0.8552\n",
            "Epoch 16/25\n",
            "284/284 [==============================] - 5s 19ms/step - loss: 0.0225 - accuracy: 0.9939 - val_loss: 0.9244 - val_accuracy: 0.8548\n",
            "Epoch 17/25\n",
            "284/284 [==============================] - 6s 19ms/step - loss: 0.0198 - accuracy: 0.9939 - val_loss: 0.8033 - val_accuracy: 0.8648\n",
            "Epoch 18/25\n",
            "284/284 [==============================] - 5s 19ms/step - loss: 0.0333 - accuracy: 0.9893 - val_loss: 0.7883 - val_accuracy: 0.8617\n",
            "Epoch 19/25\n",
            "284/284 [==============================] - 5s 19ms/step - loss: 0.0280 - accuracy: 0.9903 - val_loss: 0.7947 - val_accuracy: 0.8617\n",
            "Epoch 20/25\n",
            "284/284 [==============================] - 5s 19ms/step - loss: 0.0174 - accuracy: 0.9947 - val_loss: 0.9112 - val_accuracy: 0.8706\n",
            "Epoch 21/25\n",
            "284/284 [==============================] - 5s 19ms/step - loss: 0.0166 - accuracy: 0.9950 - val_loss: 0.8913 - val_accuracy: 0.8706\n",
            "Epoch 22/25\n",
            "284/284 [==============================] - 5s 19ms/step - loss: 0.0292 - accuracy: 0.9902 - val_loss: 1.0203 - val_accuracy: 0.8729\n",
            "Epoch 23/25\n",
            "284/284 [==============================] - 5s 19ms/step - loss: 0.0206 - accuracy: 0.9925 - val_loss: 1.0376 - val_accuracy: 0.8721\n",
            "Epoch 24/25\n",
            "284/284 [==============================] - 5s 19ms/step - loss: 0.0153 - accuracy: 0.9952 - val_loss: 1.1205 - val_accuracy: 0.8702\n",
            "Epoch 25/25\n",
            "284/284 [==============================] - 5s 19ms/step - loss: 0.0149 - accuracy: 0.9954 - val_loss: 0.9323 - val_accuracy: 0.8590\n"
          ]
        },
        {
          "output_type": "execute_result",
          "data": {
            "text/plain": [
              "<keras.callbacks.History at 0x7f025e8b6750>"
            ]
          },
          "metadata": {},
          "execution_count": 114
        }
      ]
    },
    {
      "cell_type": "code",
      "execution_count": null,
      "metadata": {
        "colab": {
          "base_uri": "https://localhost:8080/"
        },
        "id": "G8qMF22D5mAF",
        "outputId": "c2e15dce-4c35-4b57-843f-cd39b93a354f"
      },
      "outputs": [
        {
          "output_type": "stream",
          "name": "stdout",
          "text": [
            "163/163 [==============================] - 1s 5ms/step - loss: 0.9030 - accuracy: 0.8576\n"
          ]
        },
        {
          "output_type": "execute_result",
          "data": {
            "text/plain": [
              "[0.9029831290245056, 0.8576107621192932]"
            ]
          },
          "metadata": {},
          "execution_count": 115
        }
      ],
      "source": [
        "model.evaluate(test_data, test_labels)"
      ]
    },
    {
      "cell_type": "markdown",
      "metadata": {
        "id": "bszZgbIj5smX"
      },
      "source": [
        "**TRYING TO USE BERT**"
      ]
    },
    {
      "cell_type": "code",
      "execution_count": null,
      "metadata": {
        "id": "sP0B9HOIX2Yx"
      },
      "outputs": [],
      "source": [
        "######### Trying something new https://towardsdatascience.com/a-beginners-guide-to-use-bert-for-the-first-time-2e99b8c5423"
      ]
    },
    {
      "cell_type": "code",
      "execution_count": null,
      "metadata": {
        "id": "P74i8GbuuG8t",
        "colab": {
          "base_uri": "https://localhost:8080/"
        },
        "outputId": "e853878d-bc84-4485-9425-5281f8c4d55c"
      },
      "outputs": [
        {
          "output_type": "stream",
          "name": "stdout",
          "text": [
            "Looking in indexes: https://pypi.org/simple, https://us-python.pkg.dev/colab-wheels/public/simple/\n",
            "Collecting transformers\n",
            "  Downloading transformers-4.24.0-py3-none-any.whl (5.5 MB)\n",
            "\u001b[K     |████████████████████████████████| 5.5 MB 4.2 MB/s \n",
            "\u001b[?25hRequirement already satisfied: filelock in /usr/local/lib/python3.7/dist-packages (from transformers) (3.8.0)\n",
            "Requirement already satisfied: requests in /usr/local/lib/python3.7/dist-packages (from transformers) (2.23.0)\n",
            "Requirement already satisfied: importlib-metadata in /usr/local/lib/python3.7/dist-packages (from transformers) (4.13.0)\n",
            "Requirement already satisfied: numpy>=1.17 in /usr/local/lib/python3.7/dist-packages (from transformers) (1.21.6)\n",
            "Requirement already satisfied: packaging>=20.0 in /usr/local/lib/python3.7/dist-packages (from transformers) (21.3)\n",
            "Collecting tokenizers!=0.11.3,<0.14,>=0.11.1\n",
            "  Downloading tokenizers-0.13.2-cp37-cp37m-manylinux_2_17_x86_64.manylinux2014_x86_64.whl (7.6 MB)\n",
            "\u001b[K     |████████████████████████████████| 7.6 MB 46.0 MB/s \n",
            "\u001b[?25hRequirement already satisfied: pyyaml>=5.1 in /usr/local/lib/python3.7/dist-packages (from transformers) (6.0)\n",
            "Requirement already satisfied: regex!=2019.12.17 in /usr/local/lib/python3.7/dist-packages (from transformers) (2022.6.2)\n",
            "Requirement already satisfied: tqdm>=4.27 in /usr/local/lib/python3.7/dist-packages (from transformers) (4.64.1)\n",
            "Collecting huggingface-hub<1.0,>=0.10.0\n",
            "  Downloading huggingface_hub-0.10.1-py3-none-any.whl (163 kB)\n",
            "\u001b[K     |████████████████████████████████| 163 kB 59.2 MB/s \n",
            "\u001b[?25hRequirement already satisfied: typing-extensions>=3.7.4.3 in /usr/local/lib/python3.7/dist-packages (from huggingface-hub<1.0,>=0.10.0->transformers) (4.1.1)\n",
            "Requirement already satisfied: pyparsing!=3.0.5,>=2.0.2 in /usr/local/lib/python3.7/dist-packages (from packaging>=20.0->transformers) (3.0.9)\n",
            "Requirement already satisfied: zipp>=0.5 in /usr/local/lib/python3.7/dist-packages (from importlib-metadata->transformers) (3.10.0)\n",
            "Requirement already satisfied: idna<3,>=2.5 in /usr/local/lib/python3.7/dist-packages (from requests->transformers) (2.10)\n",
            "Requirement already satisfied: urllib3!=1.25.0,!=1.25.1,<1.26,>=1.21.1 in /usr/local/lib/python3.7/dist-packages (from requests->transformers) (1.24.3)\n",
            "Requirement already satisfied: certifi>=2017.4.17 in /usr/local/lib/python3.7/dist-packages (from requests->transformers) (2022.9.24)\n",
            "Requirement already satisfied: chardet<4,>=3.0.2 in /usr/local/lib/python3.7/dist-packages (from requests->transformers) (3.0.4)\n",
            "Installing collected packages: tokenizers, huggingface-hub, transformers\n",
            "Successfully installed huggingface-hub-0.10.1 tokenizers-0.13.2 transformers-4.24.0\n"
          ]
        }
      ],
      "source": [
        "# !pip install transformers"
      ]
    },
    {
      "cell_type": "code",
      "execution_count": null,
      "metadata": {
        "colab": {
          "base_uri": "https://localhost:8080/",
          "height": 145,
          "referenced_widgets": [
            "fa89f215468147b585b74f9446b3a1d7",
            "7cc272055ff84299965c2069ba5a4aef",
            "3b7a237724ec4b5281b43d327511bbd1",
            "f6c36dd3f7fc447382a4fe19815d3c50",
            "15f426ddb1594d4eb46c4fbcad1ce701",
            "61815556de5f4b16a7160dc1f112d83d",
            "79dae4e18dfd44fca1efcf61aef32673",
            "f1a19cc8b8dc45d0bfd9e1dfb648cb84",
            "e2cbdc92577a43c2bea3bbfd9c706aef",
            "a194fcffbe404be89147442cd7cb70d3",
            "24a303d8aadc49f397c31880deee4123",
            "896d278ddd9a4334ac27d918485c6dfc",
            "49b580aca7df417a99652daf6f052ae0",
            "14c4326fd8c5487fac9b8cd0bb890f03",
            "89dc3ed909ed461e90ab6b98b6af3058",
            "15f89ed4396e48e0a76365453c048846",
            "7233cfbfabe44892bc8c89d65bbb9e5f",
            "c8714264dac44f7da9a41adbec94fa2d",
            "0c10e4dcdd7440a883d14317977a3ac1",
            "e48bd9e3ce87476b8f0268cbac2d8d5e",
            "9542d6c90e294e88b683ecb8ae8dbc41",
            "f9540203751f4b418e7df386a74db4ca",
            "f531e4685bae4b1b9a1dfb2911c10f2d",
            "0f4814b6cf7645aa960da0d15fd65977",
            "23d0615b739b4696a221364970ba51a6",
            "f7ebb1855e5a48a8b34b5d567a393de3",
            "8ca3d59b0a2f46b685439c42b9f375e1",
            "103e0b2155c54a81a6ee83fdcc1b4220",
            "fd4bc45512fc4b6b81e137efded404b2",
            "b84611fd408748a8ad64ba8baf6634b3",
            "30c2a1dfd0ec4cbfab485294d8cf29f4",
            "37f7ae0c78df4c209367682f97fc01e0",
            "37322880bd4741f68aa87de36506b0aa",
            "e59c9f07c3394883a0c3cd6200063cf8",
            "158ba7e1a08b4c93880e0e7633ba526a",
            "d24fe9e45676494986ebe2c87b6737e8",
            "8889edd02a14495aa3e7666b0abaff16",
            "f6b4745a55014834a367a3f2510a6fec",
            "380d2f8a73d0464ea3be58e4ecba8cbf",
            "81357f416a4b415d85b633e432908586",
            "aa8cdb81c45d4de18e9837814604df78",
            "03b5960cfb2446ba908cc5d05bcca4d7",
            "f294c29122f1430d996f41215a39202c",
            "a7f3476a6caf42789fde4d2069d539af"
          ]
        },
        "id": "yMrVFdYcXy-g",
        "outputId": "8a49c32e-9d83-4b53-dd08-647d8233711b"
      },
      "outputs": [
        {
          "output_type": "display_data",
          "data": {
            "text/plain": [
              "Downloading:   0%|          | 0.00/28.0 [00:00<?, ?B/s]"
            ],
            "application/vnd.jupyter.widget-view+json": {
              "version_major": 2,
              "version_minor": 0,
              "model_id": "fa89f215468147b585b74f9446b3a1d7"
            }
          },
          "metadata": {}
        },
        {
          "output_type": "display_data",
          "data": {
            "text/plain": [
              "Downloading:   0%|          | 0.00/483 [00:00<?, ?B/s]"
            ],
            "application/vnd.jupyter.widget-view+json": {
              "version_major": 2,
              "version_minor": 0,
              "model_id": "896d278ddd9a4334ac27d918485c6dfc"
            }
          },
          "metadata": {}
        },
        {
          "output_type": "display_data",
          "data": {
            "text/plain": [
              "Downloading:   0%|          | 0.00/232k [00:00<?, ?B/s]"
            ],
            "application/vnd.jupyter.widget-view+json": {
              "version_major": 2,
              "version_minor": 0,
              "model_id": "f531e4685bae4b1b9a1dfb2911c10f2d"
            }
          },
          "metadata": {}
        },
        {
          "output_type": "display_data",
          "data": {
            "text/plain": [
              "Downloading:   0%|          | 0.00/466k [00:00<?, ?B/s]"
            ],
            "application/vnd.jupyter.widget-view+json": {
              "version_major": 2,
              "version_minor": 0,
              "model_id": "e59c9f07c3394883a0c3cd6200063cf8"
            }
          },
          "metadata": {}
        }
      ],
      "source": [
        "from transformers import DistilBertTokenizerFast, AutoTokenizer\n",
        "tokenizer = AutoTokenizer.from_pretrained('distilbert-base-uncased')"
      ]
    },
    {
      "cell_type": "code",
      "source": [
        "#Resetting the train_data so they are no longer GloVe Encodings\n",
        "train_data, train_labels = load_kagglefakenews(df3)"
      ],
      "metadata": {
        "id": "j8fem2O8k4IX"
      },
      "execution_count": null,
      "outputs": []
    },
    {
      "cell_type": "code",
      "execution_count": null,
      "metadata": {
        "id": "LNOf10v6vgko"
      },
      "outputs": [],
      "source": [
        "train_data_2 = train_data[:int(len(train_data)*0.7)]\n",
        "train_labels_2 = train_labels[:int(len(train_labels)*0.7)]\n",
        "test_data = train_data[int(len(train_data)*0.7):int(len(train_data)*0.9)]\n",
        "test_labels = train_labels[int(len(train_labels)*0.7):int(len(train_labels)*0.9)]\n",
        "valid_data = train_data[int(len(train_data)*0.9):]\n",
        "valid_labels = train_labels[int(len(train_labels)*0.9):]"
      ]
    },
    {
      "cell_type": "code",
      "execution_count": null,
      "metadata": {
        "id": "CHIDGLLaX7Iw"
      },
      "outputs": [],
      "source": [
        "train_encodings = tokenizer(train_data_2, truncation=True, padding=True)"
      ]
    },
    {
      "cell_type": "code",
      "execution_count": null,
      "metadata": {
        "id": "CxUXjuLgvT-M"
      },
      "outputs": [],
      "source": [
        "val_encodings = tokenizer(valid_data, truncation=True, padding=True)\n",
        "test_encodings = tokenizer(test_data, truncation=True, padding=True)"
      ]
    },
    {
      "cell_type": "code",
      "execution_count": null,
      "metadata": {
        "id": "8NyQZ_6fwMFF"
      },
      "outputs": [],
      "source": [
        "import torch"
      ]
    },
    {
      "cell_type": "code",
      "execution_count": null,
      "metadata": {
        "id": "9oZM8YJUwUg1"
      },
      "outputs": [],
      "source": [
        "class FakeNewsDataset(torch.utils.data.Dataset):\n",
        "    def __init__(self, encodings, labels):\n",
        "        self.encodings = encodings\n",
        "        self.labels = labels\n",
        "\n",
        "    def __getitem__(self, idx):\n",
        "        item = {key: torch.tensor(val[idx]) for key, val in self.encodings.items()}\n",
        "        item['labels'] = torch.tensor(self.labels[idx])\n",
        "        return item\n",
        "\n",
        "    def __len__(self):\n",
        "        return len(self.labels)\n",
        "\n",
        "train_dataset = FakeNewsDataset(train_encodings, train_labels_2)\n",
        "val_dataset = FakeNewsDataset(val_encodings, valid_labels)\n",
        "test_dataset = FakeNewsDataset(test_encodings, test_labels)"
      ]
    },
    {
      "cell_type": "code",
      "source": [
        "####### Trying new method using https://developer.habana.ai/tutorials/pytorch/distilbert-sequence-classification-with-imdb-reviews/"
      ],
      "metadata": {
        "id": "zo7LkawtJVk0"
      },
      "execution_count": null,
      "outputs": []
    },
    {
      "cell_type": "code",
      "source": [
        "def compute_metrics(eval_pred):\n",
        "        logits, labels = eval_pred\n",
        "        predictions = np.argmax(logits, axis=-1)\n",
        "        return metric.compute(predictions=predictions, references=labels)"
      ],
      "metadata": {
        "id": "o8SSlycCJX2B"
      },
      "execution_count": null,
      "outputs": []
    },
    {
      "cell_type": "code",
      "execution_count": null,
      "metadata": {
        "colab": {
          "base_uri": "https://localhost:8080/",
          "height": 676,
          "referenced_widgets": [
            "584126c74c4d4818a2ef13c2813705be",
            "ce8a6b5ab4c0469386dd630861cc5676",
            "4112d53c840c4753baf89476e9eeb7ce",
            "df3b512eeef64366b21216260f454ed8",
            "5211057429c94b6d9718f65514e646e9",
            "246033a982bb4603a1825674d992d068",
            "7d392882fb62474896c560179afc2df4",
            "6d03b7ba153647a6bf3e8a038021df94",
            "ef84293ee69a4db2be489bbc7103dfbb",
            "3b5389f167664eaa956dec21af3c2791",
            "1738c69cc23b4570a4552e822118efb1"
          ]
        },
        "id": "S6TaDM8o2UlV",
        "outputId": "6857a705-b458-4882-a636-0fb41dce4951"
      },
      "outputs": [
        {
          "output_type": "display_data",
          "data": {
            "text/plain": [
              "Downloading:   0%|          | 0.00/268M [00:00<?, ?B/s]"
            ],
            "application/vnd.jupyter.widget-view+json": {
              "version_major": 2,
              "version_minor": 0,
              "model_id": "584126c74c4d4818a2ef13c2813705be"
            }
          },
          "metadata": {}
        },
        {
          "output_type": "stream",
          "name": "stderr",
          "text": [
            "Some weights of the model checkpoint at distilbert-base-uncased were not used when initializing DistilBertForSequenceClassification: ['vocab_layer_norm.weight', 'vocab_transform.weight', 'vocab_projector.bias', 'vocab_transform.bias', 'vocab_layer_norm.bias', 'vocab_projector.weight']\n",
            "- This IS expected if you are initializing DistilBertForSequenceClassification from the checkpoint of a model trained on another task or with another architecture (e.g. initializing a BertForSequenceClassification model from a BertForPreTraining model).\n",
            "- This IS NOT expected if you are initializing DistilBertForSequenceClassification from the checkpoint of a model that you expect to be exactly identical (initializing a BertForSequenceClassification model from a BertForSequenceClassification model).\n",
            "Some weights of DistilBertForSequenceClassification were not initialized from the model checkpoint at distilbert-base-uncased and are newly initialized: ['classifier.bias', 'pre_classifier.bias', 'pre_classifier.weight', 'classifier.weight']\n",
            "You should probably TRAIN this model on a down-stream task to be able to use it for predictions and inference.\n",
            "/usr/local/lib/python3.7/dist-packages/transformers/optimization.py:310: FutureWarning: This implementation of AdamW is deprecated and will be removed in a future version. Use the PyTorch implementation torch.optim.AdamW instead, or set `no_deprecation_warning=True` to disable this warning\n",
            "  FutureWarning,\n",
            "***** Running training *****\n",
            "  Num examples = 18165\n",
            "  Num Epochs = 1\n",
            "  Instantaneous batch size per device = 16\n",
            "  Total train batch size (w. parallel, distributed & accumulation) = 16\n",
            "  Gradient Accumulation steps = 1\n",
            "  Total optimization steps = 1136\n",
            "  Number of trainable parameters = 66955010\n"
          ]
        },
        {
          "output_type": "display_data",
          "data": {
            "text/plain": [
              "<IPython.core.display.HTML object>"
            ],
            "text/html": [
              "\n",
              "    <div>\n",
              "      \n",
              "      <progress value='1136' max='1136' style='width:300px; height:20px; vertical-align: middle;'></progress>\n",
              "      [1136/1136 08:11, Epoch 1/1]\n",
              "    </div>\n",
              "    <table border=\"1\" class=\"dataframe\">\n",
              "  <thead>\n",
              " <tr style=\"text-align: left;\">\n",
              "      <th>Step</th>\n",
              "      <th>Training Loss</th>\n",
              "    </tr>\n",
              "  </thead>\n",
              "  <tbody>\n",
              "    <tr>\n",
              "      <td>500</td>\n",
              "      <td>0.338700</td>\n",
              "    </tr>\n",
              "    <tr>\n",
              "      <td>1000</td>\n",
              "      <td>0.263100</td>\n",
              "    </tr>\n",
              "  </tbody>\n",
              "</table><p>"
            ]
          },
          "metadata": {}
        },
        {
          "output_type": "stream",
          "name": "stderr",
          "text": [
            "Saving model checkpoint to test-2/checkpoint-500\n",
            "Configuration saved in test-2/checkpoint-500/config.json\n",
            "Model weights saved in test-2/checkpoint-500/pytorch_model.bin\n",
            "Saving model checkpoint to test-2/checkpoint-1000\n",
            "Configuration saved in test-2/checkpoint-1000/config.json\n",
            "Model weights saved in test-2/checkpoint-1000/pytorch_model.bin\n",
            "\n",
            "\n",
            "Training completed. Do not forget to share your model on huggingface.co/models =)\n",
            "\n",
            "\n"
          ]
        },
        {
          "output_type": "execute_result",
          "data": {
            "text/plain": [
              "TrainOutput(global_step=1136, training_loss=0.29337386346199146, metrics={'train_runtime': 492.4006, 'train_samples_per_second': 36.891, 'train_steps_per_second': 2.307, 'total_flos': 2406270296586240.0, 'train_loss': 0.29337386346199146, 'epoch': 1.0})"
            ]
          },
          "metadata": {},
          "execution_count": 126
        }
      ],
      "source": [
        "from transformers import DistilBertForSequenceClassification, Trainer, TrainingArguments\n",
        "\n",
        "args = TrainingArguments(\n",
        "    output_dir=\"test-2\",\n",
        "    #evaluation_strategy = \"steps\",\n",
        "    learning_rate=2e-5,\n",
        "    per_device_train_batch_size=16,\n",
        "    per_device_eval_batch_size=16,\n",
        "    num_train_epochs=1,\n",
        "    weight_decay=0.01,\n",
        "    #load_best_model_at_end=True,\n",
        "    #metric_for_best_model=\"accuracy\"\n",
        ")\n",
        "\n",
        "model = DistilBertForSequenceClassification.from_pretrained(\"distilbert-base-uncased\")\n",
        "\n",
        "trainer = Trainer(\n",
        "    model=model,                         # the instantiated 🤗 Transformers model to be trained\n",
        "    args=args,                  # training arguments, defined above\n",
        "    train_dataset=train_dataset,         # training dataset\n",
        "    eval_dataset=val_dataset,             # evaluation dataset\n",
        "    compute_metrics=compute_metrics\n",
        ")\n",
        "\n",
        "trainer.train()"
      ]
    },
    {
      "cell_type": "code",
      "source": [
        "!pip install datasets"
      ],
      "metadata": {
        "id": "XxBjeddaHW2z",
        "colab": {
          "base_uri": "https://localhost:8080/",
          "height": 1000
        },
        "outputId": "cd88b1e5-e5b0-45ec-bdcc-9406498a59ce"
      },
      "execution_count": null,
      "outputs": [
        {
          "output_type": "stream",
          "name": "stdout",
          "text": [
            "Looking in indexes: https://pypi.org/simple, https://us-python.pkg.dev/colab-wheels/public/simple/\n",
            "Collecting datasets\n",
            "  Downloading datasets-2.6.1-py3-none-any.whl (441 kB)\n",
            "\u001b[K     |████████████████████████████████| 441 kB 4.1 MB/s \n",
            "\u001b[?25hCollecting dill<0.3.6\n",
            "  Downloading dill-0.3.5.1-py2.py3-none-any.whl (95 kB)\n",
            "\u001b[K     |████████████████████████████████| 95 kB 4.9 MB/s \n",
            "\u001b[?25hRequirement already satisfied: aiohttp in /usr/local/lib/python3.7/dist-packages (from datasets) (3.8.3)\n",
            "Requirement already satisfied: requests>=2.19.0 in /usr/local/lib/python3.7/dist-packages (from datasets) (2.23.0)\n",
            "Collecting multiprocess\n",
            "  Downloading multiprocess-0.70.14-py37-none-any.whl (115 kB)\n",
            "\u001b[K     |████████████████████████████████| 115 kB 38.6 MB/s \n",
            "\u001b[?25hCollecting responses<0.19\n",
            "  Downloading responses-0.18.0-py3-none-any.whl (38 kB)\n",
            "Requirement already satisfied: numpy>=1.17 in /usr/local/lib/python3.7/dist-packages (from datasets) (1.21.6)\n",
            "Requirement already satisfied: pyarrow>=6.0.0 in /usr/local/lib/python3.7/dist-packages (from datasets) (6.0.1)\n",
            "Requirement already satisfied: pyyaml>=5.1 in /usr/local/lib/python3.7/dist-packages (from datasets) (6.0)\n",
            "Requirement already satisfied: huggingface-hub<1.0.0,>=0.2.0 in /usr/local/lib/python3.7/dist-packages (from datasets) (0.10.1)\n",
            "Requirement already satisfied: pandas in /usr/local/lib/python3.7/dist-packages (from datasets) (1.3.5)\n",
            "Requirement already satisfied: importlib-metadata in /usr/local/lib/python3.7/dist-packages (from datasets) (4.13.0)\n",
            "Collecting xxhash\n",
            "  Downloading xxhash-3.1.0-cp37-cp37m-manylinux_2_17_x86_64.manylinux2014_x86_64.whl (212 kB)\n",
            "\u001b[K     |████████████████████████████████| 212 kB 43.5 MB/s \n",
            "\u001b[?25hRequirement already satisfied: tqdm>=4.62.1 in /usr/local/lib/python3.7/dist-packages (from datasets) (4.64.1)\n",
            "Requirement already satisfied: fsspec[http]>=2021.11.1 in /usr/local/lib/python3.7/dist-packages (from datasets) (2022.10.0)\n",
            "Requirement already satisfied: packaging in /usr/local/lib/python3.7/dist-packages (from datasets) (21.3)\n",
            "Requirement already satisfied: frozenlist>=1.1.1 in /usr/local/lib/python3.7/dist-packages (from aiohttp->datasets) (1.3.1)\n",
            "Requirement already satisfied: attrs>=17.3.0 in /usr/local/lib/python3.7/dist-packages (from aiohttp->datasets) (22.1.0)\n",
            "Requirement already satisfied: async-timeout<5.0,>=4.0.0a3 in /usr/local/lib/python3.7/dist-packages (from aiohttp->datasets) (4.0.2)\n",
            "Requirement already satisfied: asynctest==0.13.0 in /usr/local/lib/python3.7/dist-packages (from aiohttp->datasets) (0.13.0)\n",
            "Requirement already satisfied: aiosignal>=1.1.2 in /usr/local/lib/python3.7/dist-packages (from aiohttp->datasets) (1.2.0)\n",
            "Requirement already satisfied: yarl<2.0,>=1.0 in /usr/local/lib/python3.7/dist-packages (from aiohttp->datasets) (1.8.1)\n",
            "Requirement already satisfied: typing-extensions>=3.7.4 in /usr/local/lib/python3.7/dist-packages (from aiohttp->datasets) (4.1.1)\n",
            "Requirement already satisfied: charset-normalizer<3.0,>=2.0 in /usr/local/lib/python3.7/dist-packages (from aiohttp->datasets) (2.1.1)\n",
            "Requirement already satisfied: multidict<7.0,>=4.5 in /usr/local/lib/python3.7/dist-packages (from aiohttp->datasets) (6.0.2)\n",
            "Requirement already satisfied: filelock in /usr/local/lib/python3.7/dist-packages (from huggingface-hub<1.0.0,>=0.2.0->datasets) (3.8.0)\n",
            "Requirement already satisfied: pyparsing!=3.0.5,>=2.0.2 in /usr/local/lib/python3.7/dist-packages (from packaging->datasets) (3.0.9)\n",
            "Requirement already satisfied: idna<3,>=2.5 in /usr/local/lib/python3.7/dist-packages (from requests>=2.19.0->datasets) (2.10)\n",
            "Requirement already satisfied: chardet<4,>=3.0.2 in /usr/local/lib/python3.7/dist-packages (from requests>=2.19.0->datasets) (3.0.4)\n",
            "Requirement already satisfied: certifi>=2017.4.17 in /usr/local/lib/python3.7/dist-packages (from requests>=2.19.0->datasets) (2022.9.24)\n",
            "Requirement already satisfied: urllib3!=1.25.0,!=1.25.1,<1.26,>=1.21.1 in /usr/local/lib/python3.7/dist-packages (from requests>=2.19.0->datasets) (1.24.3)\n",
            "Collecting urllib3!=1.25.0,!=1.25.1,<1.26,>=1.21.1\n",
            "  Downloading urllib3-1.25.11-py2.py3-none-any.whl (127 kB)\n",
            "\u001b[K     |████████████████████████████████| 127 kB 58.2 MB/s \n",
            "\u001b[?25hRequirement already satisfied: zipp>=0.5 in /usr/local/lib/python3.7/dist-packages (from importlib-metadata->datasets) (3.10.0)\n",
            "Collecting multiprocess\n",
            "  Downloading multiprocess-0.70.13-py37-none-any.whl (115 kB)\n",
            "\u001b[K     |████████████████████████████████| 115 kB 55.3 MB/s \n",
            "\u001b[?25hRequirement already satisfied: python-dateutil>=2.7.3 in /usr/local/lib/python3.7/dist-packages (from pandas->datasets) (2.8.2)\n",
            "Requirement already satisfied: pytz>=2017.3 in /usr/local/lib/python3.7/dist-packages (from pandas->datasets) (2022.6)\n",
            "Requirement already satisfied: six>=1.5 in /usr/local/lib/python3.7/dist-packages (from python-dateutil>=2.7.3->pandas->datasets) (1.15.0)\n",
            "Installing collected packages: urllib3, dill, xxhash, responses, multiprocess, datasets\n",
            "  Attempting uninstall: urllib3\n",
            "    Found existing installation: urllib3 1.24.3\n",
            "    Uninstalling urllib3-1.24.3:\n",
            "      Successfully uninstalled urllib3-1.24.3\n",
            "  Attempting uninstall: dill\n",
            "    Found existing installation: dill 0.3.6\n",
            "    Uninstalling dill-0.3.6:\n",
            "      Successfully uninstalled dill-0.3.6\n",
            "Successfully installed datasets-2.6.1 dill-0.3.5.1 multiprocess-0.70.13 responses-0.18.0 urllib3-1.25.11 xxhash-3.1.0\n"
          ]
        },
        {
          "output_type": "display_data",
          "data": {
            "application/vnd.colab-display-data+json": {
              "pip_warning": {
                "packages": [
                  "dill",
                  "urllib3"
                ]
              }
            }
          },
          "metadata": {}
        }
      ]
    },
    {
      "cell_type": "code",
      "source": [
        "from datasets import load_metric\n",
        "metric = load_metric(\"accuracy\")"
      ],
      "metadata": {
        "colab": {
          "base_uri": "https://localhost:8080/",
          "height": 104,
          "referenced_widgets": [
            "5454bd0fa8004e4ab54cb0629ef7b1d8",
            "1f464c9fc9784914bce487c649a719a2",
            "8c2b8e12667245a5905db52f802445ce",
            "9714b63405b249ada8c821f7357c7f2e",
            "abd9b90c1b734c2ab8812999d7f2faf3",
            "6ed8a82c91bd49b48c7c77007ad42414",
            "75e4c717243040239f8ed40a6fee96c8",
            "c8292ba4c6a5458a8a084830c8bcf72f",
            "518e92cd0bfc4a938aa17a4c6906abb7",
            "cdff63c5252843f99ca55ef03114d4fc",
            "1757e30bf0e84e709a4309ba3e773fb4"
          ]
        },
        "id": "tcHvZueNHUd1",
        "outputId": "6be8fa55-b591-4391-e579-cca97e60c85b"
      },
      "execution_count": null,
      "outputs": [
        {
          "output_type": "stream",
          "name": "stderr",
          "text": [
            "/usr/local/lib/python3.7/dist-packages/ipykernel_launcher.py:2: FutureWarning: load_metric is deprecated and will be removed in the next major version of datasets. Use 'evaluate.load' instead, from the new library 🤗 Evaluate: https://huggingface.co/docs/evaluate\n",
            "  \n"
          ]
        },
        {
          "output_type": "display_data",
          "data": {
            "text/plain": [
              "Downloading builder script:   0%|          | 0.00/1.65k [00:00<?, ?B/s]"
            ],
            "application/vnd.jupyter.widget-view+json": {
              "version_major": 2,
              "version_minor": 0,
              "model_id": "5454bd0fa8004e4ab54cb0629ef7b1d8"
            }
          },
          "metadata": {}
        }
      ]
    },
    {
      "cell_type": "code",
      "source": [
        "#Validation Accuracy\n",
        "metrics = trainer.evaluate()\n",
        "metrics[\"eval_samples\"] = len(valid_data)\n",
        "trainer.log_metrics(\"eval\", metrics)\n",
        "trainer.save_metrics(\"eval\", metrics)\n"
      ],
      "metadata": {
        "colab": {
          "base_uri": "https://localhost:8080/",
          "height": 228
        },
        "id": "LRFo-8jIGFvd",
        "outputId": "e6ffb48d-0eec-4e1b-9a3f-1ea48234498e"
      },
      "execution_count": null,
      "outputs": [
        {
          "output_type": "stream",
          "name": "stderr",
          "text": [
            "***** Running Evaluation *****\n",
            "  Num examples = 2596\n",
            "  Batch size = 16\n"
          ]
        },
        {
          "output_type": "display_data",
          "data": {
            "text/plain": [
              "<IPython.core.display.HTML object>"
            ],
            "text/html": [
              "\n",
              "    <div>\n",
              "      \n",
              "      <progress value='163' max='163' style='width:300px; height:20px; vertical-align: middle;'></progress>\n",
              "      [163/163 00:22]\n",
              "    </div>\n",
              "    "
            ]
          },
          "metadata": {}
        },
        {
          "output_type": "stream",
          "name": "stdout",
          "text": [
            "***** eval metrics *****\n",
            "  epoch                   =        1.0\n",
            "  eval_accuracy           =     0.9237\n",
            "  eval_loss               =     0.2413\n",
            "  eval_runtime            = 0:00:23.22\n",
            "  eval_samples            =       2596\n",
            "  eval_samples_per_second =    111.787\n",
            "  eval_steps_per_second   =      7.019\n"
          ]
        }
      ]
    },
    {
      "cell_type": "code",
      "source": [
        "#Test Accuracy\n",
        "metrics = trainer.evaluate(test_dataset)\n",
        "metrics[\"eval_samples\"] = len(test_dataset)\n",
        "trainer.log_metrics(\"test\", metrics)\n",
        "trainer.save_metrics(\"test\", metrics)"
      ],
      "metadata": {
        "colab": {
          "base_uri": "https://localhost:8080/",
          "height": 228
        },
        "id": "VaJhnBtuKfAe",
        "outputId": "405b429b-6b76-48bd-a849-e27eaeea3378"
      },
      "execution_count": null,
      "outputs": [
        {
          "output_type": "stream",
          "name": "stderr",
          "text": [
            "***** Running Evaluation *****\n",
            "  Num examples = 5190\n",
            "  Batch size = 16\n"
          ]
        },
        {
          "output_type": "display_data",
          "data": {
            "text/plain": [
              "<IPython.core.display.HTML object>"
            ],
            "text/html": [
              "\n",
              "    <div>\n",
              "      \n",
              "      <progress value='488' max='163' style='width:300px; height:20px; vertical-align: middle;'></progress>\n",
              "      [163/163 01:21]\n",
              "    </div>\n",
              "    "
            ]
          },
          "metadata": {}
        },
        {
          "output_type": "stream",
          "name": "stdout",
          "text": [
            "***** test metrics *****\n",
            "  epoch                   =        1.0\n",
            "  eval_accuracy           =     0.9162\n",
            "  eval_loss               =     0.2535\n",
            "  eval_runtime            = 0:00:44.98\n",
            "  eval_samples            =       5190\n",
            "  eval_samples_per_second =    115.365\n",
            "  eval_steps_per_second   =      7.224\n"
          ]
        }
      ]
    },
    {
      "cell_type": "markdown",
      "source": [
        "#**RNN MODEL**"
      ],
      "metadata": {
        "id": "bbmFcjmYG6cD"
      }
    },
    {
      "cell_type": "code",
      "source": [
        "df = df[df['title'].notnull()]\n",
        "df_test = df_test[df_test['title'].notnull()]"
      ],
      "metadata": {
        "id": "D5TWyhG3HDVU"
      },
      "execution_count": null,
      "outputs": []
    },
    {
      "cell_type": "code",
      "source": [
        "df= df.reset_index(drop=True)\n",
        "df_test = df_test.reset_index(drop=True)"
      ],
      "metadata": {
        "id": "l5kCbT0jHHW1"
      },
      "execution_count": null,
      "outputs": []
    },
    {
      "cell_type": "code",
      "source": [
        "import re\n",
        "from nltk.stem.snowball import SnowballStemmer\n",
        "stemmer = SnowballStemmer(\"english\")\n",
        "from nltk.corpus import stopwords\n",
        "import nltk\n",
        "nltk.download('stopwords')\n",
        "\n",
        "corpus = []\n",
        "for i in range(0, len(df['title'])):\n",
        "    titles = df['title'][i]\n",
        "    titles = titles.lower()\n",
        "    titles = titles.split()\n",
        "    \n",
        "    titles = [stemmer.stem(word) for word in titles if not word in stopwords.words('english')]\n",
        "    titles = ' '.join(titles)\n",
        "    corpus.append(titles)"
      ],
      "metadata": {
        "id": "zPBijnpDHIJd"
      },
      "execution_count": null,
      "outputs": []
    },
    {
      "cell_type": "code",
      "source": [
        "test_corpus = []\n",
        "for i in range(0, len(df_test['title'])):\n",
        "    test_title = df_test['title'][i]\n",
        "    test_title = test_title.lower()\n",
        "    test_title = test_title.split()\n",
        "    \n",
        "    test_title = [stemmer.stem(word) for word in test_title if not word in stopwords.words('english')]\n",
        "    test_title = ' '.join(test_title)\n",
        "    test_corpus.append(test_title)"
      ],
      "metadata": {
        "id": "DepHwQxyHMWz"
      },
      "execution_count": null,
      "outputs": []
    },
    {
      "cell_type": "code",
      "source": [
        "from tensorflow.keras.preprocessing.text import one_hot"
      ],
      "metadata": {
        "id": "zEs5oo2VHPJd"
      },
      "execution_count": null,
      "outputs": []
    },
    {
      "cell_type": "code",
      "source": [
        "voc_size = 500\n",
        "onehot_corpus = [one_hot(words, voc_size) for words in corpus]"
      ],
      "metadata": {
        "id": "8t60uCyiHuhx"
      },
      "execution_count": null,
      "outputs": []
    },
    {
      "cell_type": "code",
      "source": [
        "onehot_test = [one_hot(words, voc_size) for words in test_corpus]"
      ],
      "metadata": {
        "id": "68B-A_jgHxLZ"
      },
      "execution_count": null,
      "outputs": []
    },
    {
      "cell_type": "code",
      "source": [
        "from tensorflow.keras.preprocessing.sequence import pad_sequences\n",
        "sent_length = 20"
      ],
      "metadata": {
        "id": "yMIaZGyTH0fo"
      },
      "execution_count": null,
      "outputs": []
    },
    {
      "cell_type": "code",
      "source": [
        "X_final=np.array(pad_sequences(onehot_corpus, padding=\"post\", maxlen=sent_length))\n",
        "y_final=np.array(df['label'])"
      ],
      "metadata": {
        "id": "FsO9abtyH3F_"
      },
      "execution_count": null,
      "outputs": []
    },
    {
      "cell_type": "code",
      "source": [
        "X_final_test=np.array(pad_sequences(onehot_test, padding=\"post\", maxlen=sent_length))\n",
        "y_final_test=np.array(df_test['label'])"
      ],
      "metadata": {
        "id": "olatJDEKH7_2"
      },
      "execution_count": null,
      "outputs": []
    },
    {
      "cell_type": "code",
      "source": [
        "X_final = X_final[:int(len(X_final)*0.95)]\n",
        "y_final = y_final[:int(len(y_final)*0.95)]\n",
        "x_valid = X_final[:int(len(X_final)*0.95)]\n",
        "y_valid = y_final[:int(len(y_final)*0.95)]"
      ],
      "metadata": {
        "id": "jWy6zlqTH-EW"
      },
      "execution_count": null,
      "outputs": []
    },
    {
      "cell_type": "code",
      "source": [
        "import keras\n",
        "#input length is the number of words in the titles\n",
        "#500 is the vocab size\n",
        "\n",
        "embedding_vector_features = 400\n",
        "model = keras.Sequential([ \n",
        "    keras.layers.Embedding(500,embedding_vector_features,input_length=20),\n",
        "    keras.layers.Dropout(0.4),\n",
        "    keras.layers.LSTM(100),\n",
        "    keras.layers.Dropout(0.4),\n",
        "    keras.layers.Dense(1, activation='sigmoid')\n",
        "])\n",
        "\n",
        "model.compile(loss='binary_crossentropy',optimizer='adam',metrics=['accuracy'])"
      ],
      "metadata": {
        "id": "TUworOcoIAiY"
      },
      "execution_count": null,
      "outputs": []
    },
    {
      "cell_type": "code",
      "source": [
        "model.summary()"
      ],
      "metadata": {
        "colab": {
          "base_uri": "https://localhost:8080/"
        },
        "id": "ZGe8LQIpEHjx",
        "outputId": "1beb80c9-55ec-49a1-98a0-dbe45628f440"
      },
      "execution_count": null,
      "outputs": [
        {
          "output_type": "stream",
          "name": "stdout",
          "text": [
            "Model: \"sequential\"\n",
            "_________________________________________________________________\n",
            " Layer (type)                Output Shape              Param #   \n",
            "=================================================================\n",
            " embedding (Embedding)       (None, 20, 400)           200000    \n",
            "                                                                 \n",
            " dropout (Dropout)           (None, 20, 400)           0         \n",
            "                                                                 \n",
            " lstm (LSTM)                 (None, 100)               200400    \n",
            "                                                                 \n",
            " dropout_1 (Dropout)         (None, 100)               0         \n",
            "                                                                 \n",
            " dense (Dense)               (None, 1)                 101       \n",
            "                                                                 \n",
            "=================================================================\n",
            "Total params: 400,501\n",
            "Trainable params: 400,501\n",
            "Non-trainable params: 0\n",
            "_________________________________________________________________\n"
          ]
        }
      ]
    },
    {
      "cell_type": "code",
      "source": [
        "model.fit(X_final,y_final,validation_data=(x_valid,y_valid),epochs=40,batch_size=64)"
      ],
      "metadata": {
        "colab": {
          "base_uri": "https://localhost:8080/"
        },
        "id": "PNonwiAktj2d",
        "outputId": "22ce58e3-0fe4-44b3-f0ea-c9d62ec247e7"
      },
      "execution_count": null,
      "outputs": [
        {
          "output_type": "stream",
          "name": "stdout",
          "text": [
            "Epoch 1/40\n",
            "300/300 [==============================] - 5s 9ms/step - loss: 0.2882 - accuracy: 0.8787 - val_loss: 0.2139 - val_accuracy: 0.9108\n",
            "Epoch 2/40\n",
            "300/300 [==============================] - 3s 9ms/step - loss: 0.2201 - accuracy: 0.9121 - val_loss: 0.1880 - val_accuracy: 0.9256\n",
            "Epoch 3/40\n",
            "300/300 [==============================] - 2s 8ms/step - loss: 0.2016 - accuracy: 0.9189 - val_loss: 0.1701 - val_accuracy: 0.9313\n",
            "Epoch 4/40\n",
            "300/300 [==============================] - 2s 8ms/step - loss: 0.1904 - accuracy: 0.9221 - val_loss: 0.1644 - val_accuracy: 0.9332\n",
            "Epoch 5/40\n",
            "300/300 [==============================] - 2s 8ms/step - loss: 0.1798 - accuracy: 0.9280 - val_loss: 0.1875 - val_accuracy: 0.9358\n",
            "Epoch 6/40\n",
            "300/300 [==============================] - 2s 8ms/step - loss: 0.1693 - accuracy: 0.9311 - val_loss: 0.1496 - val_accuracy: 0.9351\n",
            "Epoch 7/40\n",
            "300/300 [==============================] - 2s 8ms/step - loss: 0.1573 - accuracy: 0.9369 - val_loss: 0.1375 - val_accuracy: 0.9473\n",
            "Epoch 8/40\n",
            "300/300 [==============================] - 2s 8ms/step - loss: 0.1471 - accuracy: 0.9396 - val_loss: 0.1151 - val_accuracy: 0.9551\n",
            "Epoch 9/40\n",
            "300/300 [==============================] - 2s 8ms/step - loss: 0.1373 - accuracy: 0.9449 - val_loss: 0.1095 - val_accuracy: 0.9572\n",
            "Epoch 10/40\n",
            "300/300 [==============================] - 3s 8ms/step - loss: 0.1231 - accuracy: 0.9511 - val_loss: 0.1103 - val_accuracy: 0.9575\n",
            "Epoch 11/40\n",
            "300/300 [==============================] - 2s 8ms/step - loss: 0.1171 - accuracy: 0.9530 - val_loss: 0.0919 - val_accuracy: 0.9631\n",
            "Epoch 12/40\n",
            "300/300 [==============================] - 2s 8ms/step - loss: 0.1076 - accuracy: 0.9552 - val_loss: 0.0826 - val_accuracy: 0.9671\n",
            "Epoch 13/40\n",
            "300/300 [==============================] - 2s 8ms/step - loss: 0.0963 - accuracy: 0.9602 - val_loss: 0.0724 - val_accuracy: 0.9730\n",
            "Epoch 14/40\n",
            "300/300 [==============================] - 2s 8ms/step - loss: 0.0878 - accuracy: 0.9649 - val_loss: 0.0652 - val_accuracy: 0.9768\n",
            "Epoch 15/40\n",
            "300/300 [==============================] - 2s 8ms/step - loss: 0.0810 - accuracy: 0.9680 - val_loss: 0.0520 - val_accuracy: 0.9809\n",
            "Epoch 16/40\n",
            "300/300 [==============================] - 2s 8ms/step - loss: 0.0714 - accuracy: 0.9722 - val_loss: 0.0426 - val_accuracy: 0.9843\n",
            "Epoch 17/40\n",
            "300/300 [==============================] - 2s 8ms/step - loss: 0.0660 - accuracy: 0.9747 - val_loss: 0.0376 - val_accuracy: 0.9875\n",
            "Epoch 18/40\n",
            "300/300 [==============================] - 2s 8ms/step - loss: 0.0576 - accuracy: 0.9783 - val_loss: 0.0282 - val_accuracy: 0.9926\n",
            "Epoch 19/40\n",
            "300/300 [==============================] - 2s 8ms/step - loss: 0.0519 - accuracy: 0.9801 - val_loss: 0.0322 - val_accuracy: 0.9905\n",
            "Epoch 20/40\n",
            "300/300 [==============================] - 2s 8ms/step - loss: 0.0467 - accuracy: 0.9854 - val_loss: 0.0269 - val_accuracy: 0.9908\n",
            "Epoch 21/40\n",
            "300/300 [==============================] - 2s 8ms/step - loss: 0.0436 - accuracy: 0.9849 - val_loss: 0.0225 - val_accuracy: 0.9946\n",
            "Epoch 22/40\n",
            "300/300 [==============================] - 2s 8ms/step - loss: 0.0372 - accuracy: 0.9879 - val_loss: 0.0162 - val_accuracy: 0.9963\n",
            "Epoch 23/40\n",
            "300/300 [==============================] - 2s 8ms/step - loss: 0.0361 - accuracy: 0.9880 - val_loss: 0.0131 - val_accuracy: 0.9973\n",
            "Epoch 24/40\n",
            "300/300 [==============================] - 3s 9ms/step - loss: 0.0330 - accuracy: 0.9892 - val_loss: 0.0175 - val_accuracy: 0.9962\n",
            "Epoch 25/40\n",
            "300/300 [==============================] - 2s 8ms/step - loss: 0.0253 - accuracy: 0.9923 - val_loss: 0.0108 - val_accuracy: 0.9979\n",
            "Epoch 26/40\n",
            "300/300 [==============================] - 2s 8ms/step - loss: 0.0307 - accuracy: 0.9900 - val_loss: 0.0146 - val_accuracy: 0.9965\n",
            "Epoch 27/40\n",
            "300/300 [==============================] - 2s 8ms/step - loss: 0.0252 - accuracy: 0.9919 - val_loss: 0.0093 - val_accuracy: 0.9978\n",
            "Epoch 28/40\n",
            "300/300 [==============================] - 2s 8ms/step - loss: 0.0255 - accuracy: 0.9912 - val_loss: 0.0126 - val_accuracy: 0.9967\n",
            "Epoch 29/40\n",
            "300/300 [==============================] - 2s 8ms/step - loss: 0.0233 - accuracy: 0.9926 - val_loss: 0.0079 - val_accuracy: 0.9986\n",
            "Epoch 30/40\n",
            "300/300 [==============================] - 3s 9ms/step - loss: 0.0199 - accuracy: 0.9932 - val_loss: 0.0106 - val_accuracy: 0.9972\n",
            "Epoch 31/40\n",
            "300/300 [==============================] - 2s 8ms/step - loss: 0.0221 - accuracy: 0.9930 - val_loss: 0.0078 - val_accuracy: 0.9984\n",
            "Epoch 32/40\n",
            "300/300 [==============================] - 2s 8ms/step - loss: 0.0186 - accuracy: 0.9942 - val_loss: 0.0062 - val_accuracy: 0.9987\n",
            "Epoch 33/40\n",
            "300/300 [==============================] - 2s 8ms/step - loss: 0.0174 - accuracy: 0.9941 - val_loss: 0.0067 - val_accuracy: 0.9984\n",
            "Epoch 34/40\n",
            "300/300 [==============================] - 2s 8ms/step - loss: 0.0169 - accuracy: 0.9949 - val_loss: 0.0062 - val_accuracy: 0.9985\n",
            "Epoch 35/40\n",
            "300/300 [==============================] - 2s 8ms/step - loss: 0.0160 - accuracy: 0.9957 - val_loss: 0.0045 - val_accuracy: 0.9990\n",
            "Epoch 36/40\n",
            "300/300 [==============================] - 2s 8ms/step - loss: 0.0155 - accuracy: 0.9952 - val_loss: 0.0064 - val_accuracy: 0.9986\n",
            "Epoch 37/40\n",
            "300/300 [==============================] - 2s 8ms/step - loss: 0.0165 - accuracy: 0.9948 - val_loss: 0.0094 - val_accuracy: 0.9975\n",
            "Epoch 38/40\n",
            "300/300 [==============================] - 2s 8ms/step - loss: 0.0146 - accuracy: 0.9960 - val_loss: 0.0058 - val_accuracy: 0.9985\n",
            "Epoch 39/40\n",
            "300/300 [==============================] - 2s 8ms/step - loss: 0.0165 - accuracy: 0.9944 - val_loss: 0.0055 - val_accuracy: 0.9987\n",
            "Epoch 40/40\n",
            "300/300 [==============================] - 2s 8ms/step - loss: 0.0142 - accuracy: 0.9958 - val_loss: 0.0052 - val_accuracy: 0.9985\n"
          ]
        },
        {
          "output_type": "execute_result",
          "data": {
            "text/plain": [
              "<keras.callbacks.History at 0x7fab61500450>"
            ]
          },
          "metadata": {},
          "execution_count": 53
        }
      ]
    },
    {
      "cell_type": "code",
      "source": [
        "model.evaluate(X_final_test,y_final_test)"
      ],
      "metadata": {
        "colab": {
          "base_uri": "https://localhost:8080/"
        },
        "id": "THKJ9fYIsJKz",
        "outputId": "f7e95d1a-fb30-4b66-d744-c77cb71411a9"
      },
      "execution_count": null,
      "outputs": [
        {
          "output_type": "stream",
          "name": "stdout",
          "text": [
            "159/159 [==============================] - 0s 3ms/step - loss: 3.6327 - accuracy: 0.6298\n"
          ]
        },
        {
          "output_type": "execute_result",
          "data": {
            "text/plain": [
              "[3.6327438354492188, 0.6298342347145081]"
            ]
          },
          "metadata": {},
          "execution_count": 54
        }
      ]
    }
  ],
  "metadata": {
    "accelerator": "GPU",
    "colab": {
      "machine_shape": "hm",
      "provenance": []
    },
    "kernelspec": {
      "display_name": "Python 3",
      "name": "python3"
    },
    "language_info": {
      "name": "python"
    },
    "widgets": {
      "application/vnd.jupyter.widget-state+json": {
        "fa89f215468147b585b74f9446b3a1d7": {
          "model_module": "@jupyter-widgets/controls",
          "model_name": "HBoxModel",
          "model_module_version": "1.5.0",
          "state": {
            "_dom_classes": [],
            "_model_module": "@jupyter-widgets/controls",
            "_model_module_version": "1.5.0",
            "_model_name": "HBoxModel",
            "_view_count": null,
            "_view_module": "@jupyter-widgets/controls",
            "_view_module_version": "1.5.0",
            "_view_name": "HBoxView",
            "box_style": "",
            "children": [
              "IPY_MODEL_7cc272055ff84299965c2069ba5a4aef",
              "IPY_MODEL_3b7a237724ec4b5281b43d327511bbd1",
              "IPY_MODEL_f6c36dd3f7fc447382a4fe19815d3c50"
            ],
            "layout": "IPY_MODEL_15f426ddb1594d4eb46c4fbcad1ce701"
          }
        },
        "7cc272055ff84299965c2069ba5a4aef": {
          "model_module": "@jupyter-widgets/controls",
          "model_name": "HTMLModel",
          "model_module_version": "1.5.0",
          "state": {
            "_dom_classes": [],
            "_model_module": "@jupyter-widgets/controls",
            "_model_module_version": "1.5.0",
            "_model_name": "HTMLModel",
            "_view_count": null,
            "_view_module": "@jupyter-widgets/controls",
            "_view_module_version": "1.5.0",
            "_view_name": "HTMLView",
            "description": "",
            "description_tooltip": null,
            "layout": "IPY_MODEL_61815556de5f4b16a7160dc1f112d83d",
            "placeholder": "​",
            "style": "IPY_MODEL_79dae4e18dfd44fca1efcf61aef32673",
            "value": "Downloading: 100%"
          }
        },
        "3b7a237724ec4b5281b43d327511bbd1": {
          "model_module": "@jupyter-widgets/controls",
          "model_name": "FloatProgressModel",
          "model_module_version": "1.5.0",
          "state": {
            "_dom_classes": [],
            "_model_module": "@jupyter-widgets/controls",
            "_model_module_version": "1.5.0",
            "_model_name": "FloatProgressModel",
            "_view_count": null,
            "_view_module": "@jupyter-widgets/controls",
            "_view_module_version": "1.5.0",
            "_view_name": "ProgressView",
            "bar_style": "success",
            "description": "",
            "description_tooltip": null,
            "layout": "IPY_MODEL_f1a19cc8b8dc45d0bfd9e1dfb648cb84",
            "max": 28,
            "min": 0,
            "orientation": "horizontal",
            "style": "IPY_MODEL_e2cbdc92577a43c2bea3bbfd9c706aef",
            "value": 28
          }
        },
        "f6c36dd3f7fc447382a4fe19815d3c50": {
          "model_module": "@jupyter-widgets/controls",
          "model_name": "HTMLModel",
          "model_module_version": "1.5.0",
          "state": {
            "_dom_classes": [],
            "_model_module": "@jupyter-widgets/controls",
            "_model_module_version": "1.5.0",
            "_model_name": "HTMLModel",
            "_view_count": null,
            "_view_module": "@jupyter-widgets/controls",
            "_view_module_version": "1.5.0",
            "_view_name": "HTMLView",
            "description": "",
            "description_tooltip": null,
            "layout": "IPY_MODEL_a194fcffbe404be89147442cd7cb70d3",
            "placeholder": "​",
            "style": "IPY_MODEL_24a303d8aadc49f397c31880deee4123",
            "value": " 28.0/28.0 [00:00&lt;00:00, 746B/s]"
          }
        },
        "15f426ddb1594d4eb46c4fbcad1ce701": {
          "model_module": "@jupyter-widgets/base",
          "model_name": "LayoutModel",
          "model_module_version": "1.2.0",
          "state": {
            "_model_module": "@jupyter-widgets/base",
            "_model_module_version": "1.2.0",
            "_model_name": "LayoutModel",
            "_view_count": null,
            "_view_module": "@jupyter-widgets/base",
            "_view_module_version": "1.2.0",
            "_view_name": "LayoutView",
            "align_content": null,
            "align_items": null,
            "align_self": null,
            "border": null,
            "bottom": null,
            "display": null,
            "flex": null,
            "flex_flow": null,
            "grid_area": null,
            "grid_auto_columns": null,
            "grid_auto_flow": null,
            "grid_auto_rows": null,
            "grid_column": null,
            "grid_gap": null,
            "grid_row": null,
            "grid_template_areas": null,
            "grid_template_columns": null,
            "grid_template_rows": null,
            "height": null,
            "justify_content": null,
            "justify_items": null,
            "left": null,
            "margin": null,
            "max_height": null,
            "max_width": null,
            "min_height": null,
            "min_width": null,
            "object_fit": null,
            "object_position": null,
            "order": null,
            "overflow": null,
            "overflow_x": null,
            "overflow_y": null,
            "padding": null,
            "right": null,
            "top": null,
            "visibility": null,
            "width": null
          }
        },
        "61815556de5f4b16a7160dc1f112d83d": {
          "model_module": "@jupyter-widgets/base",
          "model_name": "LayoutModel",
          "model_module_version": "1.2.0",
          "state": {
            "_model_module": "@jupyter-widgets/base",
            "_model_module_version": "1.2.0",
            "_model_name": "LayoutModel",
            "_view_count": null,
            "_view_module": "@jupyter-widgets/base",
            "_view_module_version": "1.2.0",
            "_view_name": "LayoutView",
            "align_content": null,
            "align_items": null,
            "align_self": null,
            "border": null,
            "bottom": null,
            "display": null,
            "flex": null,
            "flex_flow": null,
            "grid_area": null,
            "grid_auto_columns": null,
            "grid_auto_flow": null,
            "grid_auto_rows": null,
            "grid_column": null,
            "grid_gap": null,
            "grid_row": null,
            "grid_template_areas": null,
            "grid_template_columns": null,
            "grid_template_rows": null,
            "height": null,
            "justify_content": null,
            "justify_items": null,
            "left": null,
            "margin": null,
            "max_height": null,
            "max_width": null,
            "min_height": null,
            "min_width": null,
            "object_fit": null,
            "object_position": null,
            "order": null,
            "overflow": null,
            "overflow_x": null,
            "overflow_y": null,
            "padding": null,
            "right": null,
            "top": null,
            "visibility": null,
            "width": null
          }
        },
        "79dae4e18dfd44fca1efcf61aef32673": {
          "model_module": "@jupyter-widgets/controls",
          "model_name": "DescriptionStyleModel",
          "model_module_version": "1.5.0",
          "state": {
            "_model_module": "@jupyter-widgets/controls",
            "_model_module_version": "1.5.0",
            "_model_name": "DescriptionStyleModel",
            "_view_count": null,
            "_view_module": "@jupyter-widgets/base",
            "_view_module_version": "1.2.0",
            "_view_name": "StyleView",
            "description_width": ""
          }
        },
        "f1a19cc8b8dc45d0bfd9e1dfb648cb84": {
          "model_module": "@jupyter-widgets/base",
          "model_name": "LayoutModel",
          "model_module_version": "1.2.0",
          "state": {
            "_model_module": "@jupyter-widgets/base",
            "_model_module_version": "1.2.0",
            "_model_name": "LayoutModel",
            "_view_count": null,
            "_view_module": "@jupyter-widgets/base",
            "_view_module_version": "1.2.0",
            "_view_name": "LayoutView",
            "align_content": null,
            "align_items": null,
            "align_self": null,
            "border": null,
            "bottom": null,
            "display": null,
            "flex": null,
            "flex_flow": null,
            "grid_area": null,
            "grid_auto_columns": null,
            "grid_auto_flow": null,
            "grid_auto_rows": null,
            "grid_column": null,
            "grid_gap": null,
            "grid_row": null,
            "grid_template_areas": null,
            "grid_template_columns": null,
            "grid_template_rows": null,
            "height": null,
            "justify_content": null,
            "justify_items": null,
            "left": null,
            "margin": null,
            "max_height": null,
            "max_width": null,
            "min_height": null,
            "min_width": null,
            "object_fit": null,
            "object_position": null,
            "order": null,
            "overflow": null,
            "overflow_x": null,
            "overflow_y": null,
            "padding": null,
            "right": null,
            "top": null,
            "visibility": null,
            "width": null
          }
        },
        "e2cbdc92577a43c2bea3bbfd9c706aef": {
          "model_module": "@jupyter-widgets/controls",
          "model_name": "ProgressStyleModel",
          "model_module_version": "1.5.0",
          "state": {
            "_model_module": "@jupyter-widgets/controls",
            "_model_module_version": "1.5.0",
            "_model_name": "ProgressStyleModel",
            "_view_count": null,
            "_view_module": "@jupyter-widgets/base",
            "_view_module_version": "1.2.0",
            "_view_name": "StyleView",
            "bar_color": null,
            "description_width": ""
          }
        },
        "a194fcffbe404be89147442cd7cb70d3": {
          "model_module": "@jupyter-widgets/base",
          "model_name": "LayoutModel",
          "model_module_version": "1.2.0",
          "state": {
            "_model_module": "@jupyter-widgets/base",
            "_model_module_version": "1.2.0",
            "_model_name": "LayoutModel",
            "_view_count": null,
            "_view_module": "@jupyter-widgets/base",
            "_view_module_version": "1.2.0",
            "_view_name": "LayoutView",
            "align_content": null,
            "align_items": null,
            "align_self": null,
            "border": null,
            "bottom": null,
            "display": null,
            "flex": null,
            "flex_flow": null,
            "grid_area": null,
            "grid_auto_columns": null,
            "grid_auto_flow": null,
            "grid_auto_rows": null,
            "grid_column": null,
            "grid_gap": null,
            "grid_row": null,
            "grid_template_areas": null,
            "grid_template_columns": null,
            "grid_template_rows": null,
            "height": null,
            "justify_content": null,
            "justify_items": null,
            "left": null,
            "margin": null,
            "max_height": null,
            "max_width": null,
            "min_height": null,
            "min_width": null,
            "object_fit": null,
            "object_position": null,
            "order": null,
            "overflow": null,
            "overflow_x": null,
            "overflow_y": null,
            "padding": null,
            "right": null,
            "top": null,
            "visibility": null,
            "width": null
          }
        },
        "24a303d8aadc49f397c31880deee4123": {
          "model_module": "@jupyter-widgets/controls",
          "model_name": "DescriptionStyleModel",
          "model_module_version": "1.5.0",
          "state": {
            "_model_module": "@jupyter-widgets/controls",
            "_model_module_version": "1.5.0",
            "_model_name": "DescriptionStyleModel",
            "_view_count": null,
            "_view_module": "@jupyter-widgets/base",
            "_view_module_version": "1.2.0",
            "_view_name": "StyleView",
            "description_width": ""
          }
        },
        "896d278ddd9a4334ac27d918485c6dfc": {
          "model_module": "@jupyter-widgets/controls",
          "model_name": "HBoxModel",
          "model_module_version": "1.5.0",
          "state": {
            "_dom_classes": [],
            "_model_module": "@jupyter-widgets/controls",
            "_model_module_version": "1.5.0",
            "_model_name": "HBoxModel",
            "_view_count": null,
            "_view_module": "@jupyter-widgets/controls",
            "_view_module_version": "1.5.0",
            "_view_name": "HBoxView",
            "box_style": "",
            "children": [
              "IPY_MODEL_49b580aca7df417a99652daf6f052ae0",
              "IPY_MODEL_14c4326fd8c5487fac9b8cd0bb890f03",
              "IPY_MODEL_89dc3ed909ed461e90ab6b98b6af3058"
            ],
            "layout": "IPY_MODEL_15f89ed4396e48e0a76365453c048846"
          }
        },
        "49b580aca7df417a99652daf6f052ae0": {
          "model_module": "@jupyter-widgets/controls",
          "model_name": "HTMLModel",
          "model_module_version": "1.5.0",
          "state": {
            "_dom_classes": [],
            "_model_module": "@jupyter-widgets/controls",
            "_model_module_version": "1.5.0",
            "_model_name": "HTMLModel",
            "_view_count": null,
            "_view_module": "@jupyter-widgets/controls",
            "_view_module_version": "1.5.0",
            "_view_name": "HTMLView",
            "description": "",
            "description_tooltip": null,
            "layout": "IPY_MODEL_7233cfbfabe44892bc8c89d65bbb9e5f",
            "placeholder": "​",
            "style": "IPY_MODEL_c8714264dac44f7da9a41adbec94fa2d",
            "value": "Downloading: 100%"
          }
        },
        "14c4326fd8c5487fac9b8cd0bb890f03": {
          "model_module": "@jupyter-widgets/controls",
          "model_name": "FloatProgressModel",
          "model_module_version": "1.5.0",
          "state": {
            "_dom_classes": [],
            "_model_module": "@jupyter-widgets/controls",
            "_model_module_version": "1.5.0",
            "_model_name": "FloatProgressModel",
            "_view_count": null,
            "_view_module": "@jupyter-widgets/controls",
            "_view_module_version": "1.5.0",
            "_view_name": "ProgressView",
            "bar_style": "success",
            "description": "",
            "description_tooltip": null,
            "layout": "IPY_MODEL_0c10e4dcdd7440a883d14317977a3ac1",
            "max": 483,
            "min": 0,
            "orientation": "horizontal",
            "style": "IPY_MODEL_e48bd9e3ce87476b8f0268cbac2d8d5e",
            "value": 483
          }
        },
        "89dc3ed909ed461e90ab6b98b6af3058": {
          "model_module": "@jupyter-widgets/controls",
          "model_name": "HTMLModel",
          "model_module_version": "1.5.0",
          "state": {
            "_dom_classes": [],
            "_model_module": "@jupyter-widgets/controls",
            "_model_module_version": "1.5.0",
            "_model_name": "HTMLModel",
            "_view_count": null,
            "_view_module": "@jupyter-widgets/controls",
            "_view_module_version": "1.5.0",
            "_view_name": "HTMLView",
            "description": "",
            "description_tooltip": null,
            "layout": "IPY_MODEL_9542d6c90e294e88b683ecb8ae8dbc41",
            "placeholder": "​",
            "style": "IPY_MODEL_f9540203751f4b418e7df386a74db4ca",
            "value": " 483/483 [00:00&lt;00:00, 13.0kB/s]"
          }
        },
        "15f89ed4396e48e0a76365453c048846": {
          "model_module": "@jupyter-widgets/base",
          "model_name": "LayoutModel",
          "model_module_version": "1.2.0",
          "state": {
            "_model_module": "@jupyter-widgets/base",
            "_model_module_version": "1.2.0",
            "_model_name": "LayoutModel",
            "_view_count": null,
            "_view_module": "@jupyter-widgets/base",
            "_view_module_version": "1.2.0",
            "_view_name": "LayoutView",
            "align_content": null,
            "align_items": null,
            "align_self": null,
            "border": null,
            "bottom": null,
            "display": null,
            "flex": null,
            "flex_flow": null,
            "grid_area": null,
            "grid_auto_columns": null,
            "grid_auto_flow": null,
            "grid_auto_rows": null,
            "grid_column": null,
            "grid_gap": null,
            "grid_row": null,
            "grid_template_areas": null,
            "grid_template_columns": null,
            "grid_template_rows": null,
            "height": null,
            "justify_content": null,
            "justify_items": null,
            "left": null,
            "margin": null,
            "max_height": null,
            "max_width": null,
            "min_height": null,
            "min_width": null,
            "object_fit": null,
            "object_position": null,
            "order": null,
            "overflow": null,
            "overflow_x": null,
            "overflow_y": null,
            "padding": null,
            "right": null,
            "top": null,
            "visibility": null,
            "width": null
          }
        },
        "7233cfbfabe44892bc8c89d65bbb9e5f": {
          "model_module": "@jupyter-widgets/base",
          "model_name": "LayoutModel",
          "model_module_version": "1.2.0",
          "state": {
            "_model_module": "@jupyter-widgets/base",
            "_model_module_version": "1.2.0",
            "_model_name": "LayoutModel",
            "_view_count": null,
            "_view_module": "@jupyter-widgets/base",
            "_view_module_version": "1.2.0",
            "_view_name": "LayoutView",
            "align_content": null,
            "align_items": null,
            "align_self": null,
            "border": null,
            "bottom": null,
            "display": null,
            "flex": null,
            "flex_flow": null,
            "grid_area": null,
            "grid_auto_columns": null,
            "grid_auto_flow": null,
            "grid_auto_rows": null,
            "grid_column": null,
            "grid_gap": null,
            "grid_row": null,
            "grid_template_areas": null,
            "grid_template_columns": null,
            "grid_template_rows": null,
            "height": null,
            "justify_content": null,
            "justify_items": null,
            "left": null,
            "margin": null,
            "max_height": null,
            "max_width": null,
            "min_height": null,
            "min_width": null,
            "object_fit": null,
            "object_position": null,
            "order": null,
            "overflow": null,
            "overflow_x": null,
            "overflow_y": null,
            "padding": null,
            "right": null,
            "top": null,
            "visibility": null,
            "width": null
          }
        },
        "c8714264dac44f7da9a41adbec94fa2d": {
          "model_module": "@jupyter-widgets/controls",
          "model_name": "DescriptionStyleModel",
          "model_module_version": "1.5.0",
          "state": {
            "_model_module": "@jupyter-widgets/controls",
            "_model_module_version": "1.5.0",
            "_model_name": "DescriptionStyleModel",
            "_view_count": null,
            "_view_module": "@jupyter-widgets/base",
            "_view_module_version": "1.2.0",
            "_view_name": "StyleView",
            "description_width": ""
          }
        },
        "0c10e4dcdd7440a883d14317977a3ac1": {
          "model_module": "@jupyter-widgets/base",
          "model_name": "LayoutModel",
          "model_module_version": "1.2.0",
          "state": {
            "_model_module": "@jupyter-widgets/base",
            "_model_module_version": "1.2.0",
            "_model_name": "LayoutModel",
            "_view_count": null,
            "_view_module": "@jupyter-widgets/base",
            "_view_module_version": "1.2.0",
            "_view_name": "LayoutView",
            "align_content": null,
            "align_items": null,
            "align_self": null,
            "border": null,
            "bottom": null,
            "display": null,
            "flex": null,
            "flex_flow": null,
            "grid_area": null,
            "grid_auto_columns": null,
            "grid_auto_flow": null,
            "grid_auto_rows": null,
            "grid_column": null,
            "grid_gap": null,
            "grid_row": null,
            "grid_template_areas": null,
            "grid_template_columns": null,
            "grid_template_rows": null,
            "height": null,
            "justify_content": null,
            "justify_items": null,
            "left": null,
            "margin": null,
            "max_height": null,
            "max_width": null,
            "min_height": null,
            "min_width": null,
            "object_fit": null,
            "object_position": null,
            "order": null,
            "overflow": null,
            "overflow_x": null,
            "overflow_y": null,
            "padding": null,
            "right": null,
            "top": null,
            "visibility": null,
            "width": null
          }
        },
        "e48bd9e3ce87476b8f0268cbac2d8d5e": {
          "model_module": "@jupyter-widgets/controls",
          "model_name": "ProgressStyleModel",
          "model_module_version": "1.5.0",
          "state": {
            "_model_module": "@jupyter-widgets/controls",
            "_model_module_version": "1.5.0",
            "_model_name": "ProgressStyleModel",
            "_view_count": null,
            "_view_module": "@jupyter-widgets/base",
            "_view_module_version": "1.2.0",
            "_view_name": "StyleView",
            "bar_color": null,
            "description_width": ""
          }
        },
        "9542d6c90e294e88b683ecb8ae8dbc41": {
          "model_module": "@jupyter-widgets/base",
          "model_name": "LayoutModel",
          "model_module_version": "1.2.0",
          "state": {
            "_model_module": "@jupyter-widgets/base",
            "_model_module_version": "1.2.0",
            "_model_name": "LayoutModel",
            "_view_count": null,
            "_view_module": "@jupyter-widgets/base",
            "_view_module_version": "1.2.0",
            "_view_name": "LayoutView",
            "align_content": null,
            "align_items": null,
            "align_self": null,
            "border": null,
            "bottom": null,
            "display": null,
            "flex": null,
            "flex_flow": null,
            "grid_area": null,
            "grid_auto_columns": null,
            "grid_auto_flow": null,
            "grid_auto_rows": null,
            "grid_column": null,
            "grid_gap": null,
            "grid_row": null,
            "grid_template_areas": null,
            "grid_template_columns": null,
            "grid_template_rows": null,
            "height": null,
            "justify_content": null,
            "justify_items": null,
            "left": null,
            "margin": null,
            "max_height": null,
            "max_width": null,
            "min_height": null,
            "min_width": null,
            "object_fit": null,
            "object_position": null,
            "order": null,
            "overflow": null,
            "overflow_x": null,
            "overflow_y": null,
            "padding": null,
            "right": null,
            "top": null,
            "visibility": null,
            "width": null
          }
        },
        "f9540203751f4b418e7df386a74db4ca": {
          "model_module": "@jupyter-widgets/controls",
          "model_name": "DescriptionStyleModel",
          "model_module_version": "1.5.0",
          "state": {
            "_model_module": "@jupyter-widgets/controls",
            "_model_module_version": "1.5.0",
            "_model_name": "DescriptionStyleModel",
            "_view_count": null,
            "_view_module": "@jupyter-widgets/base",
            "_view_module_version": "1.2.0",
            "_view_name": "StyleView",
            "description_width": ""
          }
        },
        "f531e4685bae4b1b9a1dfb2911c10f2d": {
          "model_module": "@jupyter-widgets/controls",
          "model_name": "HBoxModel",
          "model_module_version": "1.5.0",
          "state": {
            "_dom_classes": [],
            "_model_module": "@jupyter-widgets/controls",
            "_model_module_version": "1.5.0",
            "_model_name": "HBoxModel",
            "_view_count": null,
            "_view_module": "@jupyter-widgets/controls",
            "_view_module_version": "1.5.0",
            "_view_name": "HBoxView",
            "box_style": "",
            "children": [
              "IPY_MODEL_0f4814b6cf7645aa960da0d15fd65977",
              "IPY_MODEL_23d0615b739b4696a221364970ba51a6",
              "IPY_MODEL_f7ebb1855e5a48a8b34b5d567a393de3"
            ],
            "layout": "IPY_MODEL_8ca3d59b0a2f46b685439c42b9f375e1"
          }
        },
        "0f4814b6cf7645aa960da0d15fd65977": {
          "model_module": "@jupyter-widgets/controls",
          "model_name": "HTMLModel",
          "model_module_version": "1.5.0",
          "state": {
            "_dom_classes": [],
            "_model_module": "@jupyter-widgets/controls",
            "_model_module_version": "1.5.0",
            "_model_name": "HTMLModel",
            "_view_count": null,
            "_view_module": "@jupyter-widgets/controls",
            "_view_module_version": "1.5.0",
            "_view_name": "HTMLView",
            "description": "",
            "description_tooltip": null,
            "layout": "IPY_MODEL_103e0b2155c54a81a6ee83fdcc1b4220",
            "placeholder": "​",
            "style": "IPY_MODEL_fd4bc45512fc4b6b81e137efded404b2",
            "value": "Downloading: 100%"
          }
        },
        "23d0615b739b4696a221364970ba51a6": {
          "model_module": "@jupyter-widgets/controls",
          "model_name": "FloatProgressModel",
          "model_module_version": "1.5.0",
          "state": {
            "_dom_classes": [],
            "_model_module": "@jupyter-widgets/controls",
            "_model_module_version": "1.5.0",
            "_model_name": "FloatProgressModel",
            "_view_count": null,
            "_view_module": "@jupyter-widgets/controls",
            "_view_module_version": "1.5.0",
            "_view_name": "ProgressView",
            "bar_style": "success",
            "description": "",
            "description_tooltip": null,
            "layout": "IPY_MODEL_b84611fd408748a8ad64ba8baf6634b3",
            "max": 231508,
            "min": 0,
            "orientation": "horizontal",
            "style": "IPY_MODEL_30c2a1dfd0ec4cbfab485294d8cf29f4",
            "value": 231508
          }
        },
        "f7ebb1855e5a48a8b34b5d567a393de3": {
          "model_module": "@jupyter-widgets/controls",
          "model_name": "HTMLModel",
          "model_module_version": "1.5.0",
          "state": {
            "_dom_classes": [],
            "_model_module": "@jupyter-widgets/controls",
            "_model_module_version": "1.5.0",
            "_model_name": "HTMLModel",
            "_view_count": null,
            "_view_module": "@jupyter-widgets/controls",
            "_view_module_version": "1.5.0",
            "_view_name": "HTMLView",
            "description": "",
            "description_tooltip": null,
            "layout": "IPY_MODEL_37f7ae0c78df4c209367682f97fc01e0",
            "placeholder": "​",
            "style": "IPY_MODEL_37322880bd4741f68aa87de36506b0aa",
            "value": " 232k/232k [00:00&lt;00:00, 318kB/s]"
          }
        },
        "8ca3d59b0a2f46b685439c42b9f375e1": {
          "model_module": "@jupyter-widgets/base",
          "model_name": "LayoutModel",
          "model_module_version": "1.2.0",
          "state": {
            "_model_module": "@jupyter-widgets/base",
            "_model_module_version": "1.2.0",
            "_model_name": "LayoutModel",
            "_view_count": null,
            "_view_module": "@jupyter-widgets/base",
            "_view_module_version": "1.2.0",
            "_view_name": "LayoutView",
            "align_content": null,
            "align_items": null,
            "align_self": null,
            "border": null,
            "bottom": null,
            "display": null,
            "flex": null,
            "flex_flow": null,
            "grid_area": null,
            "grid_auto_columns": null,
            "grid_auto_flow": null,
            "grid_auto_rows": null,
            "grid_column": null,
            "grid_gap": null,
            "grid_row": null,
            "grid_template_areas": null,
            "grid_template_columns": null,
            "grid_template_rows": null,
            "height": null,
            "justify_content": null,
            "justify_items": null,
            "left": null,
            "margin": null,
            "max_height": null,
            "max_width": null,
            "min_height": null,
            "min_width": null,
            "object_fit": null,
            "object_position": null,
            "order": null,
            "overflow": null,
            "overflow_x": null,
            "overflow_y": null,
            "padding": null,
            "right": null,
            "top": null,
            "visibility": null,
            "width": null
          }
        },
        "103e0b2155c54a81a6ee83fdcc1b4220": {
          "model_module": "@jupyter-widgets/base",
          "model_name": "LayoutModel",
          "model_module_version": "1.2.0",
          "state": {
            "_model_module": "@jupyter-widgets/base",
            "_model_module_version": "1.2.0",
            "_model_name": "LayoutModel",
            "_view_count": null,
            "_view_module": "@jupyter-widgets/base",
            "_view_module_version": "1.2.0",
            "_view_name": "LayoutView",
            "align_content": null,
            "align_items": null,
            "align_self": null,
            "border": null,
            "bottom": null,
            "display": null,
            "flex": null,
            "flex_flow": null,
            "grid_area": null,
            "grid_auto_columns": null,
            "grid_auto_flow": null,
            "grid_auto_rows": null,
            "grid_column": null,
            "grid_gap": null,
            "grid_row": null,
            "grid_template_areas": null,
            "grid_template_columns": null,
            "grid_template_rows": null,
            "height": null,
            "justify_content": null,
            "justify_items": null,
            "left": null,
            "margin": null,
            "max_height": null,
            "max_width": null,
            "min_height": null,
            "min_width": null,
            "object_fit": null,
            "object_position": null,
            "order": null,
            "overflow": null,
            "overflow_x": null,
            "overflow_y": null,
            "padding": null,
            "right": null,
            "top": null,
            "visibility": null,
            "width": null
          }
        },
        "fd4bc45512fc4b6b81e137efded404b2": {
          "model_module": "@jupyter-widgets/controls",
          "model_name": "DescriptionStyleModel",
          "model_module_version": "1.5.0",
          "state": {
            "_model_module": "@jupyter-widgets/controls",
            "_model_module_version": "1.5.0",
            "_model_name": "DescriptionStyleModel",
            "_view_count": null,
            "_view_module": "@jupyter-widgets/base",
            "_view_module_version": "1.2.0",
            "_view_name": "StyleView",
            "description_width": ""
          }
        },
        "b84611fd408748a8ad64ba8baf6634b3": {
          "model_module": "@jupyter-widgets/base",
          "model_name": "LayoutModel",
          "model_module_version": "1.2.0",
          "state": {
            "_model_module": "@jupyter-widgets/base",
            "_model_module_version": "1.2.0",
            "_model_name": "LayoutModel",
            "_view_count": null,
            "_view_module": "@jupyter-widgets/base",
            "_view_module_version": "1.2.0",
            "_view_name": "LayoutView",
            "align_content": null,
            "align_items": null,
            "align_self": null,
            "border": null,
            "bottom": null,
            "display": null,
            "flex": null,
            "flex_flow": null,
            "grid_area": null,
            "grid_auto_columns": null,
            "grid_auto_flow": null,
            "grid_auto_rows": null,
            "grid_column": null,
            "grid_gap": null,
            "grid_row": null,
            "grid_template_areas": null,
            "grid_template_columns": null,
            "grid_template_rows": null,
            "height": null,
            "justify_content": null,
            "justify_items": null,
            "left": null,
            "margin": null,
            "max_height": null,
            "max_width": null,
            "min_height": null,
            "min_width": null,
            "object_fit": null,
            "object_position": null,
            "order": null,
            "overflow": null,
            "overflow_x": null,
            "overflow_y": null,
            "padding": null,
            "right": null,
            "top": null,
            "visibility": null,
            "width": null
          }
        },
        "30c2a1dfd0ec4cbfab485294d8cf29f4": {
          "model_module": "@jupyter-widgets/controls",
          "model_name": "ProgressStyleModel",
          "model_module_version": "1.5.0",
          "state": {
            "_model_module": "@jupyter-widgets/controls",
            "_model_module_version": "1.5.0",
            "_model_name": "ProgressStyleModel",
            "_view_count": null,
            "_view_module": "@jupyter-widgets/base",
            "_view_module_version": "1.2.0",
            "_view_name": "StyleView",
            "bar_color": null,
            "description_width": ""
          }
        },
        "37f7ae0c78df4c209367682f97fc01e0": {
          "model_module": "@jupyter-widgets/base",
          "model_name": "LayoutModel",
          "model_module_version": "1.2.0",
          "state": {
            "_model_module": "@jupyter-widgets/base",
            "_model_module_version": "1.2.0",
            "_model_name": "LayoutModel",
            "_view_count": null,
            "_view_module": "@jupyter-widgets/base",
            "_view_module_version": "1.2.0",
            "_view_name": "LayoutView",
            "align_content": null,
            "align_items": null,
            "align_self": null,
            "border": null,
            "bottom": null,
            "display": null,
            "flex": null,
            "flex_flow": null,
            "grid_area": null,
            "grid_auto_columns": null,
            "grid_auto_flow": null,
            "grid_auto_rows": null,
            "grid_column": null,
            "grid_gap": null,
            "grid_row": null,
            "grid_template_areas": null,
            "grid_template_columns": null,
            "grid_template_rows": null,
            "height": null,
            "justify_content": null,
            "justify_items": null,
            "left": null,
            "margin": null,
            "max_height": null,
            "max_width": null,
            "min_height": null,
            "min_width": null,
            "object_fit": null,
            "object_position": null,
            "order": null,
            "overflow": null,
            "overflow_x": null,
            "overflow_y": null,
            "padding": null,
            "right": null,
            "top": null,
            "visibility": null,
            "width": null
          }
        },
        "37322880bd4741f68aa87de36506b0aa": {
          "model_module": "@jupyter-widgets/controls",
          "model_name": "DescriptionStyleModel",
          "model_module_version": "1.5.0",
          "state": {
            "_model_module": "@jupyter-widgets/controls",
            "_model_module_version": "1.5.0",
            "_model_name": "DescriptionStyleModel",
            "_view_count": null,
            "_view_module": "@jupyter-widgets/base",
            "_view_module_version": "1.2.0",
            "_view_name": "StyleView",
            "description_width": ""
          }
        },
        "e59c9f07c3394883a0c3cd6200063cf8": {
          "model_module": "@jupyter-widgets/controls",
          "model_name": "HBoxModel",
          "model_module_version": "1.5.0",
          "state": {
            "_dom_classes": [],
            "_model_module": "@jupyter-widgets/controls",
            "_model_module_version": "1.5.0",
            "_model_name": "HBoxModel",
            "_view_count": null,
            "_view_module": "@jupyter-widgets/controls",
            "_view_module_version": "1.5.0",
            "_view_name": "HBoxView",
            "box_style": "",
            "children": [
              "IPY_MODEL_158ba7e1a08b4c93880e0e7633ba526a",
              "IPY_MODEL_d24fe9e45676494986ebe2c87b6737e8",
              "IPY_MODEL_8889edd02a14495aa3e7666b0abaff16"
            ],
            "layout": "IPY_MODEL_f6b4745a55014834a367a3f2510a6fec"
          }
        },
        "158ba7e1a08b4c93880e0e7633ba526a": {
          "model_module": "@jupyter-widgets/controls",
          "model_name": "HTMLModel",
          "model_module_version": "1.5.0",
          "state": {
            "_dom_classes": [],
            "_model_module": "@jupyter-widgets/controls",
            "_model_module_version": "1.5.0",
            "_model_name": "HTMLModel",
            "_view_count": null,
            "_view_module": "@jupyter-widgets/controls",
            "_view_module_version": "1.5.0",
            "_view_name": "HTMLView",
            "description": "",
            "description_tooltip": null,
            "layout": "IPY_MODEL_380d2f8a73d0464ea3be58e4ecba8cbf",
            "placeholder": "​",
            "style": "IPY_MODEL_81357f416a4b415d85b633e432908586",
            "value": "Downloading: 100%"
          }
        },
        "d24fe9e45676494986ebe2c87b6737e8": {
          "model_module": "@jupyter-widgets/controls",
          "model_name": "FloatProgressModel",
          "model_module_version": "1.5.0",
          "state": {
            "_dom_classes": [],
            "_model_module": "@jupyter-widgets/controls",
            "_model_module_version": "1.5.0",
            "_model_name": "FloatProgressModel",
            "_view_count": null,
            "_view_module": "@jupyter-widgets/controls",
            "_view_module_version": "1.5.0",
            "_view_name": "ProgressView",
            "bar_style": "success",
            "description": "",
            "description_tooltip": null,
            "layout": "IPY_MODEL_aa8cdb81c45d4de18e9837814604df78",
            "max": 466062,
            "min": 0,
            "orientation": "horizontal",
            "style": "IPY_MODEL_03b5960cfb2446ba908cc5d05bcca4d7",
            "value": 466062
          }
        },
        "8889edd02a14495aa3e7666b0abaff16": {
          "model_module": "@jupyter-widgets/controls",
          "model_name": "HTMLModel",
          "model_module_version": "1.5.0",
          "state": {
            "_dom_classes": [],
            "_model_module": "@jupyter-widgets/controls",
            "_model_module_version": "1.5.0",
            "_model_name": "HTMLModel",
            "_view_count": null,
            "_view_module": "@jupyter-widgets/controls",
            "_view_module_version": "1.5.0",
            "_view_name": "HTMLView",
            "description": "",
            "description_tooltip": null,
            "layout": "IPY_MODEL_f294c29122f1430d996f41215a39202c",
            "placeholder": "​",
            "style": "IPY_MODEL_a7f3476a6caf42789fde4d2069d539af",
            "value": " 466k/466k [00:00&lt;00:00, 641kB/s]"
          }
        },
        "f6b4745a55014834a367a3f2510a6fec": {
          "model_module": "@jupyter-widgets/base",
          "model_name": "LayoutModel",
          "model_module_version": "1.2.0",
          "state": {
            "_model_module": "@jupyter-widgets/base",
            "_model_module_version": "1.2.0",
            "_model_name": "LayoutModel",
            "_view_count": null,
            "_view_module": "@jupyter-widgets/base",
            "_view_module_version": "1.2.0",
            "_view_name": "LayoutView",
            "align_content": null,
            "align_items": null,
            "align_self": null,
            "border": null,
            "bottom": null,
            "display": null,
            "flex": null,
            "flex_flow": null,
            "grid_area": null,
            "grid_auto_columns": null,
            "grid_auto_flow": null,
            "grid_auto_rows": null,
            "grid_column": null,
            "grid_gap": null,
            "grid_row": null,
            "grid_template_areas": null,
            "grid_template_columns": null,
            "grid_template_rows": null,
            "height": null,
            "justify_content": null,
            "justify_items": null,
            "left": null,
            "margin": null,
            "max_height": null,
            "max_width": null,
            "min_height": null,
            "min_width": null,
            "object_fit": null,
            "object_position": null,
            "order": null,
            "overflow": null,
            "overflow_x": null,
            "overflow_y": null,
            "padding": null,
            "right": null,
            "top": null,
            "visibility": null,
            "width": null
          }
        },
        "380d2f8a73d0464ea3be58e4ecba8cbf": {
          "model_module": "@jupyter-widgets/base",
          "model_name": "LayoutModel",
          "model_module_version": "1.2.0",
          "state": {
            "_model_module": "@jupyter-widgets/base",
            "_model_module_version": "1.2.0",
            "_model_name": "LayoutModel",
            "_view_count": null,
            "_view_module": "@jupyter-widgets/base",
            "_view_module_version": "1.2.0",
            "_view_name": "LayoutView",
            "align_content": null,
            "align_items": null,
            "align_self": null,
            "border": null,
            "bottom": null,
            "display": null,
            "flex": null,
            "flex_flow": null,
            "grid_area": null,
            "grid_auto_columns": null,
            "grid_auto_flow": null,
            "grid_auto_rows": null,
            "grid_column": null,
            "grid_gap": null,
            "grid_row": null,
            "grid_template_areas": null,
            "grid_template_columns": null,
            "grid_template_rows": null,
            "height": null,
            "justify_content": null,
            "justify_items": null,
            "left": null,
            "margin": null,
            "max_height": null,
            "max_width": null,
            "min_height": null,
            "min_width": null,
            "object_fit": null,
            "object_position": null,
            "order": null,
            "overflow": null,
            "overflow_x": null,
            "overflow_y": null,
            "padding": null,
            "right": null,
            "top": null,
            "visibility": null,
            "width": null
          }
        },
        "81357f416a4b415d85b633e432908586": {
          "model_module": "@jupyter-widgets/controls",
          "model_name": "DescriptionStyleModel",
          "model_module_version": "1.5.0",
          "state": {
            "_model_module": "@jupyter-widgets/controls",
            "_model_module_version": "1.5.0",
            "_model_name": "DescriptionStyleModel",
            "_view_count": null,
            "_view_module": "@jupyter-widgets/base",
            "_view_module_version": "1.2.0",
            "_view_name": "StyleView",
            "description_width": ""
          }
        },
        "aa8cdb81c45d4de18e9837814604df78": {
          "model_module": "@jupyter-widgets/base",
          "model_name": "LayoutModel",
          "model_module_version": "1.2.0",
          "state": {
            "_model_module": "@jupyter-widgets/base",
            "_model_module_version": "1.2.0",
            "_model_name": "LayoutModel",
            "_view_count": null,
            "_view_module": "@jupyter-widgets/base",
            "_view_module_version": "1.2.0",
            "_view_name": "LayoutView",
            "align_content": null,
            "align_items": null,
            "align_self": null,
            "border": null,
            "bottom": null,
            "display": null,
            "flex": null,
            "flex_flow": null,
            "grid_area": null,
            "grid_auto_columns": null,
            "grid_auto_flow": null,
            "grid_auto_rows": null,
            "grid_column": null,
            "grid_gap": null,
            "grid_row": null,
            "grid_template_areas": null,
            "grid_template_columns": null,
            "grid_template_rows": null,
            "height": null,
            "justify_content": null,
            "justify_items": null,
            "left": null,
            "margin": null,
            "max_height": null,
            "max_width": null,
            "min_height": null,
            "min_width": null,
            "object_fit": null,
            "object_position": null,
            "order": null,
            "overflow": null,
            "overflow_x": null,
            "overflow_y": null,
            "padding": null,
            "right": null,
            "top": null,
            "visibility": null,
            "width": null
          }
        },
        "03b5960cfb2446ba908cc5d05bcca4d7": {
          "model_module": "@jupyter-widgets/controls",
          "model_name": "ProgressStyleModel",
          "model_module_version": "1.5.0",
          "state": {
            "_model_module": "@jupyter-widgets/controls",
            "_model_module_version": "1.5.0",
            "_model_name": "ProgressStyleModel",
            "_view_count": null,
            "_view_module": "@jupyter-widgets/base",
            "_view_module_version": "1.2.0",
            "_view_name": "StyleView",
            "bar_color": null,
            "description_width": ""
          }
        },
        "f294c29122f1430d996f41215a39202c": {
          "model_module": "@jupyter-widgets/base",
          "model_name": "LayoutModel",
          "model_module_version": "1.2.0",
          "state": {
            "_model_module": "@jupyter-widgets/base",
            "_model_module_version": "1.2.0",
            "_model_name": "LayoutModel",
            "_view_count": null,
            "_view_module": "@jupyter-widgets/base",
            "_view_module_version": "1.2.0",
            "_view_name": "LayoutView",
            "align_content": null,
            "align_items": null,
            "align_self": null,
            "border": null,
            "bottom": null,
            "display": null,
            "flex": null,
            "flex_flow": null,
            "grid_area": null,
            "grid_auto_columns": null,
            "grid_auto_flow": null,
            "grid_auto_rows": null,
            "grid_column": null,
            "grid_gap": null,
            "grid_row": null,
            "grid_template_areas": null,
            "grid_template_columns": null,
            "grid_template_rows": null,
            "height": null,
            "justify_content": null,
            "justify_items": null,
            "left": null,
            "margin": null,
            "max_height": null,
            "max_width": null,
            "min_height": null,
            "min_width": null,
            "object_fit": null,
            "object_position": null,
            "order": null,
            "overflow": null,
            "overflow_x": null,
            "overflow_y": null,
            "padding": null,
            "right": null,
            "top": null,
            "visibility": null,
            "width": null
          }
        },
        "a7f3476a6caf42789fde4d2069d539af": {
          "model_module": "@jupyter-widgets/controls",
          "model_name": "DescriptionStyleModel",
          "model_module_version": "1.5.0",
          "state": {
            "_model_module": "@jupyter-widgets/controls",
            "_model_module_version": "1.5.0",
            "_model_name": "DescriptionStyleModel",
            "_view_count": null,
            "_view_module": "@jupyter-widgets/base",
            "_view_module_version": "1.2.0",
            "_view_name": "StyleView",
            "description_width": ""
          }
        },
        "584126c74c4d4818a2ef13c2813705be": {
          "model_module": "@jupyter-widgets/controls",
          "model_name": "HBoxModel",
          "model_module_version": "1.5.0",
          "state": {
            "_dom_classes": [],
            "_model_module": "@jupyter-widgets/controls",
            "_model_module_version": "1.5.0",
            "_model_name": "HBoxModel",
            "_view_count": null,
            "_view_module": "@jupyter-widgets/controls",
            "_view_module_version": "1.5.0",
            "_view_name": "HBoxView",
            "box_style": "",
            "children": [
              "IPY_MODEL_ce8a6b5ab4c0469386dd630861cc5676",
              "IPY_MODEL_4112d53c840c4753baf89476e9eeb7ce",
              "IPY_MODEL_df3b512eeef64366b21216260f454ed8"
            ],
            "layout": "IPY_MODEL_5211057429c94b6d9718f65514e646e9"
          }
        },
        "ce8a6b5ab4c0469386dd630861cc5676": {
          "model_module": "@jupyter-widgets/controls",
          "model_name": "HTMLModel",
          "model_module_version": "1.5.0",
          "state": {
            "_dom_classes": [],
            "_model_module": "@jupyter-widgets/controls",
            "_model_module_version": "1.5.0",
            "_model_name": "HTMLModel",
            "_view_count": null,
            "_view_module": "@jupyter-widgets/controls",
            "_view_module_version": "1.5.0",
            "_view_name": "HTMLView",
            "description": "",
            "description_tooltip": null,
            "layout": "IPY_MODEL_246033a982bb4603a1825674d992d068",
            "placeholder": "​",
            "style": "IPY_MODEL_7d392882fb62474896c560179afc2df4",
            "value": "Downloading: 100%"
          }
        },
        "4112d53c840c4753baf89476e9eeb7ce": {
          "model_module": "@jupyter-widgets/controls",
          "model_name": "FloatProgressModel",
          "model_module_version": "1.5.0",
          "state": {
            "_dom_classes": [],
            "_model_module": "@jupyter-widgets/controls",
            "_model_module_version": "1.5.0",
            "_model_name": "FloatProgressModel",
            "_view_count": null,
            "_view_module": "@jupyter-widgets/controls",
            "_view_module_version": "1.5.0",
            "_view_name": "ProgressView",
            "bar_style": "success",
            "description": "",
            "description_tooltip": null,
            "layout": "IPY_MODEL_6d03b7ba153647a6bf3e8a038021df94",
            "max": 267967963,
            "min": 0,
            "orientation": "horizontal",
            "style": "IPY_MODEL_ef84293ee69a4db2be489bbc7103dfbb",
            "value": 267967963
          }
        },
        "df3b512eeef64366b21216260f454ed8": {
          "model_module": "@jupyter-widgets/controls",
          "model_name": "HTMLModel",
          "model_module_version": "1.5.0",
          "state": {
            "_dom_classes": [],
            "_model_module": "@jupyter-widgets/controls",
            "_model_module_version": "1.5.0",
            "_model_name": "HTMLModel",
            "_view_count": null,
            "_view_module": "@jupyter-widgets/controls",
            "_view_module_version": "1.5.0",
            "_view_name": "HTMLView",
            "description": "",
            "description_tooltip": null,
            "layout": "IPY_MODEL_3b5389f167664eaa956dec21af3c2791",
            "placeholder": "​",
            "style": "IPY_MODEL_1738c69cc23b4570a4552e822118efb1",
            "value": " 268M/268M [00:09&lt;00:00, 30.5MB/s]"
          }
        },
        "5211057429c94b6d9718f65514e646e9": {
          "model_module": "@jupyter-widgets/base",
          "model_name": "LayoutModel",
          "model_module_version": "1.2.0",
          "state": {
            "_model_module": "@jupyter-widgets/base",
            "_model_module_version": "1.2.0",
            "_model_name": "LayoutModel",
            "_view_count": null,
            "_view_module": "@jupyter-widgets/base",
            "_view_module_version": "1.2.0",
            "_view_name": "LayoutView",
            "align_content": null,
            "align_items": null,
            "align_self": null,
            "border": null,
            "bottom": null,
            "display": null,
            "flex": null,
            "flex_flow": null,
            "grid_area": null,
            "grid_auto_columns": null,
            "grid_auto_flow": null,
            "grid_auto_rows": null,
            "grid_column": null,
            "grid_gap": null,
            "grid_row": null,
            "grid_template_areas": null,
            "grid_template_columns": null,
            "grid_template_rows": null,
            "height": null,
            "justify_content": null,
            "justify_items": null,
            "left": null,
            "margin": null,
            "max_height": null,
            "max_width": null,
            "min_height": null,
            "min_width": null,
            "object_fit": null,
            "object_position": null,
            "order": null,
            "overflow": null,
            "overflow_x": null,
            "overflow_y": null,
            "padding": null,
            "right": null,
            "top": null,
            "visibility": null,
            "width": null
          }
        },
        "246033a982bb4603a1825674d992d068": {
          "model_module": "@jupyter-widgets/base",
          "model_name": "LayoutModel",
          "model_module_version": "1.2.0",
          "state": {
            "_model_module": "@jupyter-widgets/base",
            "_model_module_version": "1.2.0",
            "_model_name": "LayoutModel",
            "_view_count": null,
            "_view_module": "@jupyter-widgets/base",
            "_view_module_version": "1.2.0",
            "_view_name": "LayoutView",
            "align_content": null,
            "align_items": null,
            "align_self": null,
            "border": null,
            "bottom": null,
            "display": null,
            "flex": null,
            "flex_flow": null,
            "grid_area": null,
            "grid_auto_columns": null,
            "grid_auto_flow": null,
            "grid_auto_rows": null,
            "grid_column": null,
            "grid_gap": null,
            "grid_row": null,
            "grid_template_areas": null,
            "grid_template_columns": null,
            "grid_template_rows": null,
            "height": null,
            "justify_content": null,
            "justify_items": null,
            "left": null,
            "margin": null,
            "max_height": null,
            "max_width": null,
            "min_height": null,
            "min_width": null,
            "object_fit": null,
            "object_position": null,
            "order": null,
            "overflow": null,
            "overflow_x": null,
            "overflow_y": null,
            "padding": null,
            "right": null,
            "top": null,
            "visibility": null,
            "width": null
          }
        },
        "7d392882fb62474896c560179afc2df4": {
          "model_module": "@jupyter-widgets/controls",
          "model_name": "DescriptionStyleModel",
          "model_module_version": "1.5.0",
          "state": {
            "_model_module": "@jupyter-widgets/controls",
            "_model_module_version": "1.5.0",
            "_model_name": "DescriptionStyleModel",
            "_view_count": null,
            "_view_module": "@jupyter-widgets/base",
            "_view_module_version": "1.2.0",
            "_view_name": "StyleView",
            "description_width": ""
          }
        },
        "6d03b7ba153647a6bf3e8a038021df94": {
          "model_module": "@jupyter-widgets/base",
          "model_name": "LayoutModel",
          "model_module_version": "1.2.0",
          "state": {
            "_model_module": "@jupyter-widgets/base",
            "_model_module_version": "1.2.0",
            "_model_name": "LayoutModel",
            "_view_count": null,
            "_view_module": "@jupyter-widgets/base",
            "_view_module_version": "1.2.0",
            "_view_name": "LayoutView",
            "align_content": null,
            "align_items": null,
            "align_self": null,
            "border": null,
            "bottom": null,
            "display": null,
            "flex": null,
            "flex_flow": null,
            "grid_area": null,
            "grid_auto_columns": null,
            "grid_auto_flow": null,
            "grid_auto_rows": null,
            "grid_column": null,
            "grid_gap": null,
            "grid_row": null,
            "grid_template_areas": null,
            "grid_template_columns": null,
            "grid_template_rows": null,
            "height": null,
            "justify_content": null,
            "justify_items": null,
            "left": null,
            "margin": null,
            "max_height": null,
            "max_width": null,
            "min_height": null,
            "min_width": null,
            "object_fit": null,
            "object_position": null,
            "order": null,
            "overflow": null,
            "overflow_x": null,
            "overflow_y": null,
            "padding": null,
            "right": null,
            "top": null,
            "visibility": null,
            "width": null
          }
        },
        "ef84293ee69a4db2be489bbc7103dfbb": {
          "model_module": "@jupyter-widgets/controls",
          "model_name": "ProgressStyleModel",
          "model_module_version": "1.5.0",
          "state": {
            "_model_module": "@jupyter-widgets/controls",
            "_model_module_version": "1.5.0",
            "_model_name": "ProgressStyleModel",
            "_view_count": null,
            "_view_module": "@jupyter-widgets/base",
            "_view_module_version": "1.2.0",
            "_view_name": "StyleView",
            "bar_color": null,
            "description_width": ""
          }
        },
        "3b5389f167664eaa956dec21af3c2791": {
          "model_module": "@jupyter-widgets/base",
          "model_name": "LayoutModel",
          "model_module_version": "1.2.0",
          "state": {
            "_model_module": "@jupyter-widgets/base",
            "_model_module_version": "1.2.0",
            "_model_name": "LayoutModel",
            "_view_count": null,
            "_view_module": "@jupyter-widgets/base",
            "_view_module_version": "1.2.0",
            "_view_name": "LayoutView",
            "align_content": null,
            "align_items": null,
            "align_self": null,
            "border": null,
            "bottom": null,
            "display": null,
            "flex": null,
            "flex_flow": null,
            "grid_area": null,
            "grid_auto_columns": null,
            "grid_auto_flow": null,
            "grid_auto_rows": null,
            "grid_column": null,
            "grid_gap": null,
            "grid_row": null,
            "grid_template_areas": null,
            "grid_template_columns": null,
            "grid_template_rows": null,
            "height": null,
            "justify_content": null,
            "justify_items": null,
            "left": null,
            "margin": null,
            "max_height": null,
            "max_width": null,
            "min_height": null,
            "min_width": null,
            "object_fit": null,
            "object_position": null,
            "order": null,
            "overflow": null,
            "overflow_x": null,
            "overflow_y": null,
            "padding": null,
            "right": null,
            "top": null,
            "visibility": null,
            "width": null
          }
        },
        "1738c69cc23b4570a4552e822118efb1": {
          "model_module": "@jupyter-widgets/controls",
          "model_name": "DescriptionStyleModel",
          "model_module_version": "1.5.0",
          "state": {
            "_model_module": "@jupyter-widgets/controls",
            "_model_module_version": "1.5.0",
            "_model_name": "DescriptionStyleModel",
            "_view_count": null,
            "_view_module": "@jupyter-widgets/base",
            "_view_module_version": "1.2.0",
            "_view_name": "StyleView",
            "description_width": ""
          }
        },
        "5454bd0fa8004e4ab54cb0629ef7b1d8": {
          "model_module": "@jupyter-widgets/controls",
          "model_name": "HBoxModel",
          "model_module_version": "1.5.0",
          "state": {
            "_dom_classes": [],
            "_model_module": "@jupyter-widgets/controls",
            "_model_module_version": "1.5.0",
            "_model_name": "HBoxModel",
            "_view_count": null,
            "_view_module": "@jupyter-widgets/controls",
            "_view_module_version": "1.5.0",
            "_view_name": "HBoxView",
            "box_style": "",
            "children": [
              "IPY_MODEL_1f464c9fc9784914bce487c649a719a2",
              "IPY_MODEL_8c2b8e12667245a5905db52f802445ce",
              "IPY_MODEL_9714b63405b249ada8c821f7357c7f2e"
            ],
            "layout": "IPY_MODEL_abd9b90c1b734c2ab8812999d7f2faf3"
          }
        },
        "1f464c9fc9784914bce487c649a719a2": {
          "model_module": "@jupyter-widgets/controls",
          "model_name": "HTMLModel",
          "model_module_version": "1.5.0",
          "state": {
            "_dom_classes": [],
            "_model_module": "@jupyter-widgets/controls",
            "_model_module_version": "1.5.0",
            "_model_name": "HTMLModel",
            "_view_count": null,
            "_view_module": "@jupyter-widgets/controls",
            "_view_module_version": "1.5.0",
            "_view_name": "HTMLView",
            "description": "",
            "description_tooltip": null,
            "layout": "IPY_MODEL_6ed8a82c91bd49b48c7c77007ad42414",
            "placeholder": "​",
            "style": "IPY_MODEL_75e4c717243040239f8ed40a6fee96c8",
            "value": "Downloading builder script: "
          }
        },
        "8c2b8e12667245a5905db52f802445ce": {
          "model_module": "@jupyter-widgets/controls",
          "model_name": "FloatProgressModel",
          "model_module_version": "1.5.0",
          "state": {
            "_dom_classes": [],
            "_model_module": "@jupyter-widgets/controls",
            "_model_module_version": "1.5.0",
            "_model_name": "FloatProgressModel",
            "_view_count": null,
            "_view_module": "@jupyter-widgets/controls",
            "_view_module_version": "1.5.0",
            "_view_name": "ProgressView",
            "bar_style": "success",
            "description": "",
            "description_tooltip": null,
            "layout": "IPY_MODEL_c8292ba4c6a5458a8a084830c8bcf72f",
            "max": 1652,
            "min": 0,
            "orientation": "horizontal",
            "style": "IPY_MODEL_518e92cd0bfc4a938aa17a4c6906abb7",
            "value": 1652
          }
        },
        "9714b63405b249ada8c821f7357c7f2e": {
          "model_module": "@jupyter-widgets/controls",
          "model_name": "HTMLModel",
          "model_module_version": "1.5.0",
          "state": {
            "_dom_classes": [],
            "_model_module": "@jupyter-widgets/controls",
            "_model_module_version": "1.5.0",
            "_model_name": "HTMLModel",
            "_view_count": null,
            "_view_module": "@jupyter-widgets/controls",
            "_view_module_version": "1.5.0",
            "_view_name": "HTMLView",
            "description": "",
            "description_tooltip": null,
            "layout": "IPY_MODEL_cdff63c5252843f99ca55ef03114d4fc",
            "placeholder": "​",
            "style": "IPY_MODEL_1757e30bf0e84e709a4309ba3e773fb4",
            "value": " 4.21k/? [00:00&lt;00:00, 60.9kB/s]"
          }
        },
        "abd9b90c1b734c2ab8812999d7f2faf3": {
          "model_module": "@jupyter-widgets/base",
          "model_name": "LayoutModel",
          "model_module_version": "1.2.0",
          "state": {
            "_model_module": "@jupyter-widgets/base",
            "_model_module_version": "1.2.0",
            "_model_name": "LayoutModel",
            "_view_count": null,
            "_view_module": "@jupyter-widgets/base",
            "_view_module_version": "1.2.0",
            "_view_name": "LayoutView",
            "align_content": null,
            "align_items": null,
            "align_self": null,
            "border": null,
            "bottom": null,
            "display": null,
            "flex": null,
            "flex_flow": null,
            "grid_area": null,
            "grid_auto_columns": null,
            "grid_auto_flow": null,
            "grid_auto_rows": null,
            "grid_column": null,
            "grid_gap": null,
            "grid_row": null,
            "grid_template_areas": null,
            "grid_template_columns": null,
            "grid_template_rows": null,
            "height": null,
            "justify_content": null,
            "justify_items": null,
            "left": null,
            "margin": null,
            "max_height": null,
            "max_width": null,
            "min_height": null,
            "min_width": null,
            "object_fit": null,
            "object_position": null,
            "order": null,
            "overflow": null,
            "overflow_x": null,
            "overflow_y": null,
            "padding": null,
            "right": null,
            "top": null,
            "visibility": null,
            "width": null
          }
        },
        "6ed8a82c91bd49b48c7c77007ad42414": {
          "model_module": "@jupyter-widgets/base",
          "model_name": "LayoutModel",
          "model_module_version": "1.2.0",
          "state": {
            "_model_module": "@jupyter-widgets/base",
            "_model_module_version": "1.2.0",
            "_model_name": "LayoutModel",
            "_view_count": null,
            "_view_module": "@jupyter-widgets/base",
            "_view_module_version": "1.2.0",
            "_view_name": "LayoutView",
            "align_content": null,
            "align_items": null,
            "align_self": null,
            "border": null,
            "bottom": null,
            "display": null,
            "flex": null,
            "flex_flow": null,
            "grid_area": null,
            "grid_auto_columns": null,
            "grid_auto_flow": null,
            "grid_auto_rows": null,
            "grid_column": null,
            "grid_gap": null,
            "grid_row": null,
            "grid_template_areas": null,
            "grid_template_columns": null,
            "grid_template_rows": null,
            "height": null,
            "justify_content": null,
            "justify_items": null,
            "left": null,
            "margin": null,
            "max_height": null,
            "max_width": null,
            "min_height": null,
            "min_width": null,
            "object_fit": null,
            "object_position": null,
            "order": null,
            "overflow": null,
            "overflow_x": null,
            "overflow_y": null,
            "padding": null,
            "right": null,
            "top": null,
            "visibility": null,
            "width": null
          }
        },
        "75e4c717243040239f8ed40a6fee96c8": {
          "model_module": "@jupyter-widgets/controls",
          "model_name": "DescriptionStyleModel",
          "model_module_version": "1.5.0",
          "state": {
            "_model_module": "@jupyter-widgets/controls",
            "_model_module_version": "1.5.0",
            "_model_name": "DescriptionStyleModel",
            "_view_count": null,
            "_view_module": "@jupyter-widgets/base",
            "_view_module_version": "1.2.0",
            "_view_name": "StyleView",
            "description_width": ""
          }
        },
        "c8292ba4c6a5458a8a084830c8bcf72f": {
          "model_module": "@jupyter-widgets/base",
          "model_name": "LayoutModel",
          "model_module_version": "1.2.0",
          "state": {
            "_model_module": "@jupyter-widgets/base",
            "_model_module_version": "1.2.0",
            "_model_name": "LayoutModel",
            "_view_count": null,
            "_view_module": "@jupyter-widgets/base",
            "_view_module_version": "1.2.0",
            "_view_name": "LayoutView",
            "align_content": null,
            "align_items": null,
            "align_self": null,
            "border": null,
            "bottom": null,
            "display": null,
            "flex": null,
            "flex_flow": null,
            "grid_area": null,
            "grid_auto_columns": null,
            "grid_auto_flow": null,
            "grid_auto_rows": null,
            "grid_column": null,
            "grid_gap": null,
            "grid_row": null,
            "grid_template_areas": null,
            "grid_template_columns": null,
            "grid_template_rows": null,
            "height": null,
            "justify_content": null,
            "justify_items": null,
            "left": null,
            "margin": null,
            "max_height": null,
            "max_width": null,
            "min_height": null,
            "min_width": null,
            "object_fit": null,
            "object_position": null,
            "order": null,
            "overflow": null,
            "overflow_x": null,
            "overflow_y": null,
            "padding": null,
            "right": null,
            "top": null,
            "visibility": null,
            "width": null
          }
        },
        "518e92cd0bfc4a938aa17a4c6906abb7": {
          "model_module": "@jupyter-widgets/controls",
          "model_name": "ProgressStyleModel",
          "model_module_version": "1.5.0",
          "state": {
            "_model_module": "@jupyter-widgets/controls",
            "_model_module_version": "1.5.0",
            "_model_name": "ProgressStyleModel",
            "_view_count": null,
            "_view_module": "@jupyter-widgets/base",
            "_view_module_version": "1.2.0",
            "_view_name": "StyleView",
            "bar_color": null,
            "description_width": ""
          }
        },
        "cdff63c5252843f99ca55ef03114d4fc": {
          "model_module": "@jupyter-widgets/base",
          "model_name": "LayoutModel",
          "model_module_version": "1.2.0",
          "state": {
            "_model_module": "@jupyter-widgets/base",
            "_model_module_version": "1.2.0",
            "_model_name": "LayoutModel",
            "_view_count": null,
            "_view_module": "@jupyter-widgets/base",
            "_view_module_version": "1.2.0",
            "_view_name": "LayoutView",
            "align_content": null,
            "align_items": null,
            "align_self": null,
            "border": null,
            "bottom": null,
            "display": null,
            "flex": null,
            "flex_flow": null,
            "grid_area": null,
            "grid_auto_columns": null,
            "grid_auto_flow": null,
            "grid_auto_rows": null,
            "grid_column": null,
            "grid_gap": null,
            "grid_row": null,
            "grid_template_areas": null,
            "grid_template_columns": null,
            "grid_template_rows": null,
            "height": null,
            "justify_content": null,
            "justify_items": null,
            "left": null,
            "margin": null,
            "max_height": null,
            "max_width": null,
            "min_height": null,
            "min_width": null,
            "object_fit": null,
            "object_position": null,
            "order": null,
            "overflow": null,
            "overflow_x": null,
            "overflow_y": null,
            "padding": null,
            "right": null,
            "top": null,
            "visibility": null,
            "width": null
          }
        },
        "1757e30bf0e84e709a4309ba3e773fb4": {
          "model_module": "@jupyter-widgets/controls",
          "model_name": "DescriptionStyleModel",
          "model_module_version": "1.5.0",
          "state": {
            "_model_module": "@jupyter-widgets/controls",
            "_model_module_version": "1.5.0",
            "_model_name": "DescriptionStyleModel",
            "_view_count": null,
            "_view_module": "@jupyter-widgets/base",
            "_view_module_version": "1.2.0",
            "_view_name": "StyleView",
            "description_width": ""
          }
        }
      }
    },
    "gpuClass": "premium"
  },
  "nbformat": 4,
  "nbformat_minor": 0
}